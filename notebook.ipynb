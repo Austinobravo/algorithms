{
 "cells": [
  {
   "attachments": {},
   "cell_type": "markdown",
   "metadata": {},
   "source": [
    "Create a notebook and sort in descending order of likes"
   ]
  },
  {
   "cell_type": "code",
   "execution_count": 55,
   "metadata": {},
   "outputs": [],
   "source": [
    "class Notebook:\n",
    "    def __init__(self,title,username,likes):\n",
    "        self.title, self.username, self.likes=title, username, likes\n",
    "\n",
    "    def __repr__(self):\n",
    "        return f\"Note book <{self.username}/{self.title}, {self.likes} likes>\""
   ]
  },
  {
   "cell_type": "code",
   "execution_count": 56,
   "metadata": {},
   "outputs": [],
   "source": [
    "nb1 = Notebook('We are the winners', 'Jane', 100)\n",
    "nb2 = Notebook('We are not losers ', 'Jone', 1000)\n",
    "nb3 = Notebook('We are the winners', 'John', 150)\n",
    "nb4 = Notebook('We are the winners', 'Dane', 1060)\n",
    "nb5 = Notebook('We are the winners', 'kane', 107)\n",
    "nb6 = Notebook('We are the winners', 'wane', 1600)"
   ]
  },
  {
   "cell_type": "code",
   "execution_count": 57,
   "metadata": {},
   "outputs": [
    {
     "data": {
      "text/plain": [
       "[Note book <Jane/We are the winners, 100 likes>,\n",
       " Note book <Jone/We are not losers , 1000 likes>,\n",
       " Note book <John/We are the winners, 150 likes>,\n",
       " Note book <Dane/We are the winners, 1060 likes>,\n",
       " Note book <kane/We are the winners, 107 likes>,\n",
       " Note book <wane/We are the winners, 1600 likes>]"
      ]
     },
     "execution_count": 57,
     "metadata": {},
     "output_type": "execute_result"
    }
   ],
   "source": [
    "notebooks = [nb1,nb2,nb3,nb4,nb5,nb6]\n",
    "notebooks"
   ]
  },
  {
   "cell_type": "code",
   "execution_count": 58,
   "metadata": {},
   "outputs": [],
   "source": [
    "def compare_likes(nb1,nb2):\n",
    "    if nb1.likes > nb2.likes:\n",
    "        return 'lesser'\n",
    "    elif nb1.likes == nb2.likes:\n",
    "        return 'equal'\n",
    "    else:\n",
    "        return 'greater'"
   ]
  },
  {
   "cell_type": "code",
   "execution_count": 59,
   "metadata": {},
   "outputs": [],
   "source": [
    "def default_compare(x, y):\n",
    "    if x < y:\n",
    "        return 'lesser'\n",
    "    elif x==y:\n",
    "        return 'equal'\n",
    "    else:\n",
    "        return 'greater'\n",
    "    \n",
    "def merge_sort(objs, compare=default_compare):\n",
    "    if len(objs) < 2:\n",
    "        return objs\n",
    "    mid = len(objs)//2\n",
    "    return merge(merge_sort(objs[:mid], compare), merge_sort(objs[mid:], compare), compare)\n",
    "\n",
    "def merge(left, right, compare):\n",
    "    i, j, merged= 0, 0, []\n",
    "    while i < len(left) and j < len(right):\n",
    "        result = compare( left[i], right[j])\n",
    "        if result =='lesser' or result =='equal':\n",
    "            merged.append(left[i])\n",
    "            i+=1\n",
    "        else:\n",
    "            merged.append(right[j])\n",
    "            j+=1\n",
    "    return merged + left[i:] + right[j:]\n"
   ]
  },
  {
   "cell_type": "code",
   "execution_count": 60,
   "metadata": {},
   "outputs": [
    {
     "data": {
      "text/plain": [
       "[Note book <wane/We are the winners, 1600 likes>,\n",
       " Note book <Dane/We are the winners, 1060 likes>,\n",
       " Note book <Jone/We are not losers , 1000 likes>,\n",
       " Note book <John/We are the winners, 150 likes>,\n",
       " Note book <kane/We are the winners, 107 likes>,\n",
       " Note book <Jane/We are the winners, 100 likes>]"
      ]
     },
     "execution_count": 60,
     "metadata": {},
     "output_type": "execute_result"
    }
   ],
   "source": [
    "merge_sort(notebooks, compare_likes)"
   ]
  },
  {
   "cell_type": "code",
   "execution_count": 61,
   "metadata": {},
   "outputs": [],
   "source": [
    "def compare_titles(nb1,nb2):\n",
    "    if nb1.title > nb2.title:\n",
    "        return 'lesser'\n",
    "    elif nb1.title == nb2.title:\n",
    "        return 'equal'\n",
    "    else:\n",
    "        return 'greater'"
   ]
  },
  {
   "cell_type": "code",
   "execution_count": 89,
   "metadata": {},
   "outputs": [],
   "source": [
    "def compare_titles_usernames_likes(nb1, nb2):\n",
    "   # i =  nb1.title, nb1.likes\n",
    "   # j =   nb2.title, nb2.likes\n",
    "      \n",
    "   if nb1:\n",
    "      if nb1.title > nb2.title and nb1.username > nb2.username and nb1.likes > nb2.likes:\n",
    "         return 'lesser'\n",
    "      elif nb1.title == nb2.title and nb1.username == nb2.username and nb1.likes == nb2.likes:\n",
    "         return 'equal'\n",
    "      else:\n",
    "         return 'greater'\n",
    "   # return compare_titles_usernames_likes(nb1=nb1.username, nb2=nb2.username), compare_titles_usernames_likes(nb1=nb1.likes, nb2=nb2.likes)\n",
    "   "
   ]
  },
  {
   "cell_type": "code",
   "execution_count": 90,
   "metadata": {},
   "outputs": [
    {
     "data": {
      "text/plain": [
       "[Note book <wane/We are the winners, 1600 likes>,\n",
       " Note book <kane/We are the winners, 107 likes>,\n",
       " Note book <Dane/We are the winners, 1060 likes>,\n",
       " Note book <John/We are the winners, 150 likes>,\n",
       " Note book <Jone/We are not losers , 1000 likes>,\n",
       " Note book <Jane/We are the winners, 100 likes>]"
      ]
     },
     "execution_count": 90,
     "metadata": {},
     "output_type": "execute_result"
    }
   ],
   "source": [
    "merge_sort(notebooks, compare_titles_usernames_likes)"
   ]
  }
 ],
 "metadata": {
  "kernelspec": {
   "display_name": "Python 3",
   "language": "python",
   "name": "python3"
  },
  "language_info": {
   "codemirror_mode": {
    "name": "ipython",
    "version": 3
   },
   "file_extension": ".py",
   "mimetype": "text/x-python",
   "name": "python",
   "nbconvert_exporter": "python",
   "pygments_lexer": "ipython3",
   "version": "3.10.5"
  },
  "orig_nbformat": 4
 },
 "nbformat": 4,
 "nbformat_minor": 2
}
