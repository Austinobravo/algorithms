{
 "cells": [
  {
   "cell_type": "markdown",
   "metadata": {},
   "source": [
    "Alice has some cards with numbers written on them,she arranges the card in decreasing order and lays them faced down, she tells bob to pick a card with a given number turning over only few cards, write a function to help bob query the card."
   ]
  },
  {
   "cell_type": "code",
   "execution_count": 1,
   "metadata": {},
   "outputs": [],
   "source": [
    "\n",
    "def query_cards(cards, query):\n",
    "    pass\n",
    "\n"
   ]
  },
  {
   "cell_type": "code",
   "execution_count": 2,
   "metadata": {},
   "outputs": [],
   "source": [
    "\n",
    "cards = [15, 9, 7, 6.9, 4, 1, 'card']\n",
    "query = 7\n",
    "position = 2"
   ]
  },
  {
   "cell_type": "code",
   "execution_count": 3,
   "metadata": {},
   "outputs": [
    {
     "name": "stdout",
     "output_type": "stream",
     "text": [
      "None\n"
     ]
    }
   ],
   "source": [
    "result = query_cards(cards, query)\n",
    "print(result)"
   ]
  },
  {
   "cell_type": "code",
   "execution_count": 4,
   "metadata": {},
   "outputs": [
    {
     "data": {
      "text/plain": [
       "False"
      ]
     },
     "execution_count": 4,
     "metadata": {},
     "output_type": "execute_result"
    }
   ],
   "source": [
    "result == position"
   ]
  },
  {
   "cell_type": "code",
   "execution_count": 5,
   "metadata": {},
   "outputs": [],
   "source": [
    "test = {\n",
    "    'input': {\n",
    "        'cards': [15, 9, 7, 6.9, 4, 1, 'card'],\n",
    "        'query': 7\n",
    "    },\n",
    "    'output': 2\n",
    "}"
   ]
  },
  {
   "cell_type": "code",
   "execution_count": 6,
   "metadata": {},
   "outputs": [
    {
     "data": {
      "text/plain": [
       "False"
      ]
     },
     "execution_count": 6,
     "metadata": {},
     "output_type": "execute_result"
    }
   ],
   "source": [
    "query_cards(test['input']['cards'], test['input']['query'] ) == test['output']"
   ]
  },
  {
   "cell_type": "code",
   "execution_count": 7,
   "metadata": {},
   "outputs": [],
   "source": [
    "tests =[]"
   ]
  },
  {
   "cell_type": "code",
   "execution_count": 8,
   "metadata": {},
   "outputs": [],
   "source": [
    "#Append  test to test\n",
    "# if query occurs in the middle\n",
    "tests.append(test)\n",
    "tests.append(\n",
    "    {\n",
    "        'input': {\n",
    "            'cards': [15, 9, 7, 6.9, 4, 1, 'card'],\n",
    "            'query': 4\n",
    "        },\n",
    "        'output': 4\n",
    "    }\n",
    ")\n"
   ]
  },
  {
   "cell_type": "code",
   "execution_count": 9,
   "metadata": {},
   "outputs": [],
   "source": [
    "# if its the first\n",
    "tests.append(\n",
    "    {\n",
    "        'input': {\n",
    "            'cards': [15, 9, 7, 6.9, 4, 1, 'card'],\n",
    "            'query': 15\n",
    "        },\n",
    "        'output': 0\n",
    "\n",
    "    }\n",
    ")"
   ]
  },
  {
   "cell_type": "code",
   "execution_count": 10,
   "metadata": {},
   "outputs": [],
   "source": [
    "#if  its the last\n",
    "tests.append(\n",
    "    {\n",
    "        'input': {\n",
    "            'cards': [15, 9, 7, 6.9, 4,2, 'card'],\n",
    "            'query': 2\n",
    "        },\n",
    "        'output': 5\n",
    "    }\n",
    ")"
   ]
  },
  {
   "cell_type": "code",
   "execution_count": 11,
   "metadata": {},
   "outputs": [],
   "source": [
    "#if it contains one reocccurence\n",
    "tests.append(\n",
    "    {\n",
    "        'input': {\n",
    "            'cards': [15],\n",
    "            'query': 15\n",
    "        },\n",
    "        'output': 0\n",
    "    }\n",
    ")"
   ]
  },
  {
   "cell_type": "code",
   "execution_count": 12,
   "metadata": {},
   "outputs": [],
   "source": [
    "#card doesnt have query\n",
    "tests.append(\n",
    "    {\n",
    "        'input': {\n",
    "            'cards': [15, 9, 7, 6.9, 4, 1,  0],\n",
    "            'query': -1\n",
    "        },\n",
    "        'output': -1\n",
    "\n",
    "    }\n",
    ")"
   ]
  },
  {
   "cell_type": "code",
   "execution_count": 13,
   "metadata": {},
   "outputs": [],
   "source": [
    "#cards is empty\n",
    "tests.append(\n",
    "    {\n",
    "        'input': {\n",
    "            'cards': [],\n",
    "            'query': -1\n",
    "        },\n",
    "        'output': -1\n",
    "    }\n",
    ")"
   ]
  },
  {
   "cell_type": "code",
   "execution_count": 14,
   "metadata": {},
   "outputs": [],
   "source": [
    "#numbers reoccur\n",
    "tests.append(\n",
    "    {\n",
    "        'input': {\n",
    "            'cards': [7, 1, 7, 6.9, 4, 1,3, 'card'],\n",
    "            'query': 3\n",
    "        },\n",
    "        'output': 6.9\n",
    "    }\n",
    ")"
   ]
  },
  {
   "cell_type": "code",
   "execution_count": 15,
   "metadata": {},
   "outputs": [],
   "source": [
    "#query reoccur\n",
    "tests.append(\n",
    "    {\n",
    "        'input': {\n",
    "            'cards': [15, 9, 7,7,7, 6.9, 4, 7, 'card'],\n",
    "            'query': 7\n",
    "        },\n",
    "        'output': 2\n",
    "    }\n",
    ")"
   ]
  },
  {
   "cell_type": "code",
   "execution_count": 16,
   "metadata": {},
   "outputs": [
    {
     "data": {
      "text/plain": [
       "[{'input': {'cards': [15, 9, 7, 6.9, 4, 1, 'card'], 'query': 7}, 'output': 2},\n",
       " {'input': {'cards': [15, 9, 7, 6.9, 4, 1, 'card'], 'query': 4}, 'output': 4},\n",
       " {'input': {'cards': [15, 9, 7, 6.9, 4, 1, 'card'], 'query': 15}, 'output': 0},\n",
       " {'input': {'cards': [15, 9, 7, 6.9, 4, 2, 'card'], 'query': 2}, 'output': 5},\n",
       " {'input': {'cards': [15], 'query': 15}, 'output': 0},\n",
       " {'input': {'cards': [15, 9, 7, 6.9, 4, 1, 0], 'query': -1}, 'output': -1},\n",
       " {'input': {'cards': [], 'query': -1}, 'output': -1},\n",
       " {'input': {'cards': [7, 1, 7, 6.9, 4, 1, 3, 'card'], 'query': 3},\n",
       "  'output': 6.9},\n",
       " {'input': {'cards': [15, 9, 7, 7, 7, 6.9, 4, 7, 'card'], 'query': 7},\n",
       "  'output': 2}]"
      ]
     },
     "execution_count": 16,
     "metadata": {},
     "output_type": "execute_result"
    }
   ],
   "source": [
    "tests "
   ]
  },
  {
   "cell_type": "code",
   "execution_count": 17,
   "metadata": {},
   "outputs": [],
   "source": [
    "def query_cards(cards, query):\n",
    "    \n",
    "    #Brute force method\n",
    "    #Name a variable\n",
    "\n",
    "    position = 0\n",
    "\n",
    "    #Then loop\n",
    "    while True:\n",
    "        if cards[position] == query:\n",
    "            return position\n",
    "\n",
    "        position= position + 1\n",
    "\n",
    "        if position == len(cards):\n",
    "            return -1\n",
    "            break"
   ]
  },
  {
   "cell_type": "code",
   "execution_count": 18,
   "metadata": {},
   "outputs": [
    {
     "data": {
      "text/plain": [
       "{'input': {'cards': [15, 9, 7, 6.9, 4, 1, 'card'], 'query': 7}, 'output': 2}"
      ]
     },
     "execution_count": 18,
     "metadata": {},
     "output_type": "execute_result"
    }
   ],
   "source": [
    "test\n"
   ]
  },
  {
   "cell_type": "code",
   "execution_count": 19,
   "metadata": {},
   "outputs": [
    {
     "data": {
      "text/plain": [
       "2"
      ]
     },
     "execution_count": 19,
     "metadata": {},
     "output_type": "execute_result"
    }
   ],
   "source": [
    "result = query_cards(test['input']['cards'], test['input']['query'] ) \n",
    "result\n"
   ]
  },
  {
   "cell_type": "code",
   "execution_count": 20,
   "metadata": {},
   "outputs": [
    {
     "data": {
      "text/plain": [
       "True"
      ]
     },
     "execution_count": 20,
     "metadata": {},
     "output_type": "execute_result"
    }
   ],
   "source": [
    "result == test['output']"
   ]
  },
  {
   "cell_type": "code",
   "execution_count": 21,
   "metadata": {},
   "outputs": [],
   "source": [
    "def query_cards(cards, query):\n",
    "    \n",
    "    #Brute force method\n",
    "    #Name a variable\n",
    "    print('cards:', cards)\n",
    "    print('query:', query)\n",
    "\n",
    "    position = 0\n",
    "\n",
    "    #Then loop\n",
    "    while True:\n",
    "        print('position:', position)\n",
    "        if cards[position] == query:\n",
    "            return position\n",
    "\n",
    "        position= position + 1\n",
    "\n",
    "        if position == len(cards):\n",
    "            return -1\n",
    "            break"
   ]
  },
  {
   "cell_type": "code",
   "execution_count": 22,
   "metadata": {},
   "outputs": [
    {
     "data": {
      "application/javascript": "if (window.IPython && IPython.notebook.kernel) IPython.notebook.kernel.execute('jovian.utils.jupyter.get_notebook_name_saved = lambda: \"' + IPython.notebook.notebook_name + '\"')",
      "text/plain": [
       "<IPython.core.display.Javascript object>"
      ]
     },
     "metadata": {},
     "output_type": "display_data"
    }
   ],
   "source": [
    "from jovian.pythondsa import evaluate_test_cases, evaluate_test_case\n",
    "\n"
   ]
  },
  {
   "cell_type": "code",
   "execution_count": null,
   "metadata": {},
   "outputs": [],
   "source": []
  },
  {
   "cell_type": "code",
   "execution_count": 23,
   "metadata": {},
   "outputs": [
    {
     "name": "stdout",
     "output_type": "stream",
     "text": [
      "\n",
      "\u001b[1mTEST CASE #0\u001b[0m\n",
      "cards: [15, 9, 7, 6.9, 4, 1, 'card']\n",
      "query: 7\n",
      "position: 0\n",
      "position: 1\n",
      "position: 2\n",
      "\n",
      "Input:\n",
      "{'cards': [15, 9, 7, 6.9, 4, 1, 'card'], 'query': 7}\n",
      "\n",
      "Expected Output:\n",
      "2\n",
      "\n",
      "\n",
      "Actual Output:\n",
      "2\n",
      "\n",
      "Execution Time:\n",
      "0.108 ms\n",
      "\n",
      "Test Result:\n",
      "\u001b[92mPASSED\u001b[0m\n",
      "\n",
      "\n",
      "\u001b[1mTEST CASE #1\u001b[0m\n",
      "cards: [15, 9, 7, 6.9, 4, 1, 'card']\n",
      "query: 4\n",
      "position: 0\n",
      "position: 1\n",
      "position: 2\n",
      "position: 3\n",
      "position: 4\n",
      "\n",
      "Input:\n",
      "{'cards': [15, 9, 7, 6.9, 4, 1, 'card'], 'query': 4}\n",
      "\n",
      "Expected Output:\n",
      "4\n",
      "\n",
      "\n",
      "Actual Output:\n",
      "4\n",
      "\n",
      "Execution Time:\n",
      "0.151 ms\n",
      "\n",
      "Test Result:\n",
      "\u001b[92mPASSED\u001b[0m\n",
      "\n",
      "\n",
      "\u001b[1mTEST CASE #2\u001b[0m\n",
      "cards: [15, 9, 7, 6.9, 4, 1, 'card']\n",
      "query: 15\n",
      "position: 0\n",
      "\n",
      "Input:\n",
      "{'cards': [15, 9, 7, 6.9, 4, 1, 'card'], 'query': 15}\n",
      "\n",
      "Expected Output:\n",
      "0\n",
      "\n",
      "\n",
      "Actual Output:\n",
      "0\n",
      "\n",
      "Execution Time:\n",
      "0.068 ms\n",
      "\n",
      "Test Result:\n",
      "\u001b[92mPASSED\u001b[0m\n",
      "\n",
      "\n",
      "\u001b[1mTEST CASE #3\u001b[0m\n",
      "cards: [15, 9, 7, 6.9, 4, 2, 'card']\n",
      "query: 2\n",
      "position: 0\n",
      "position: 1\n",
      "position: 2\n",
      "position: 3\n",
      "position: 4\n",
      "position: 5\n",
      "\n",
      "Input:\n",
      "{'cards': [15, 9, 7, 6.9, 4, 2, 'card'], 'query': 2}\n",
      "\n",
      "Expected Output:\n",
      "5\n",
      "\n",
      "\n",
      "Actual Output:\n",
      "5\n",
      "\n",
      "Execution Time:\n",
      "0.16 ms\n",
      "\n",
      "Test Result:\n",
      "\u001b[92mPASSED\u001b[0m\n",
      "\n",
      "\n",
      "\u001b[1mTEST CASE #4\u001b[0m\n",
      "cards: [15]\n",
      "query: 15\n",
      "position: 0\n",
      "\n",
      "Input:\n",
      "{'cards': [15], 'query': 15}\n",
      "\n",
      "Expected Output:\n",
      "0\n",
      "\n",
      "\n",
      "Actual Output:\n",
      "0\n",
      "\n",
      "Execution Time:\n",
      "0.053 ms\n",
      "\n",
      "Test Result:\n",
      "\u001b[92mPASSED\u001b[0m\n",
      "\n",
      "\n",
      "\u001b[1mTEST CASE #5\u001b[0m\n",
      "cards: [15, 9, 7, 6.9, 4, 1, 0]\n",
      "query: -1\n",
      "position: 0\n",
      "position: 1\n",
      "position: 2\n",
      "position: 3\n",
      "position: 4\n",
      "position: 5\n",
      "position: 6\n",
      "\n",
      "Input:\n",
      "{'cards': [15, 9, 7, 6.9, 4, 1, 0], 'query': -1}\n",
      "\n",
      "Expected Output:\n",
      "-1\n",
      "\n",
      "\n",
      "Actual Output:\n",
      "-1\n",
      "\n",
      "Execution Time:\n",
      "0.161 ms\n",
      "\n",
      "Test Result:\n",
      "\u001b[92mPASSED\u001b[0m\n",
      "\n",
      "\n",
      "\u001b[1mTEST CASE #6\u001b[0m\n",
      "cards: []\n",
      "query: -1\n",
      "position: 0\n"
     ]
    },
    {
     "ename": "IndexError",
     "evalue": "list index out of range",
     "output_type": "error",
     "traceback": [
      "\u001b[1;31m---------------------------------------------------------------------------\u001b[0m",
      "\u001b[1;31mIndexError\u001b[0m                                Traceback (most recent call last)",
      "Cell \u001b[1;32mIn[23], line 1\u001b[0m\n\u001b[1;32m----> 1\u001b[0m \u001b[43mevaluate_test_cases\u001b[49m\u001b[43m(\u001b[49m\u001b[43mquery_cards\u001b[49m\u001b[43m,\u001b[49m\u001b[43m \u001b[49m\u001b[43mtests\u001b[49m\u001b[43m)\u001b[49m\n",
      "File \u001b[1;32mc:\\Users\\E\\AppData\\Local\\Programs\\Python\\Python310\\lib\\site-packages\\jovian\\pythondsa\\__init__.py:87\u001b[0m, in \u001b[0;36mevaluate_test_cases\u001b[1;34m(function, test_cases, error_only, summary_only)\u001b[0m\n\u001b[0;32m     85\u001b[0m \u001b[39mif\u001b[39;00m \u001b[39mnot\u001b[39;00m error_only:\n\u001b[0;32m     86\u001b[0m     \u001b[39mprint\u001b[39m(\u001b[39m\"\u001b[39m\u001b[39m\\n\u001b[39;00m\u001b[39m\\033\u001b[39;00m\u001b[39m[1mTEST CASE #\u001b[39m\u001b[39m{}\u001b[39;00m\u001b[39m\\033\u001b[39;00m\u001b[39m[0m\u001b[39m\u001b[39m\"\u001b[39m\u001b[39m.\u001b[39mformat(i))\n\u001b[1;32m---> 87\u001b[0m result \u001b[39m=\u001b[39m evaluate_test_case(function, test_case, display\u001b[39m=\u001b[39;49m\u001b[39mFalse\u001b[39;49;00m)\n\u001b[0;32m     88\u001b[0m results\u001b[39m.\u001b[39mappend(result)\n\u001b[0;32m     89\u001b[0m \u001b[39mif\u001b[39;00m error_only \u001b[39mand\u001b[39;00m \u001b[39mnot\u001b[39;00m result[\u001b[39m1\u001b[39m]:\n",
      "File \u001b[1;32mc:\\Users\\E\\AppData\\Local\\Programs\\Python\\Python310\\lib\\site-packages\\jovian\\pythondsa\\__init__.py:65\u001b[0m, in \u001b[0;36mevaluate_test_case\u001b[1;34m(function, test_case, display)\u001b[0m\n\u001b[0;32m     62\u001b[0m     _show_test_case(test_case)\n\u001b[0;32m     64\u001b[0m start \u001b[39m=\u001b[39m timer()\n\u001b[1;32m---> 65\u001b[0m actual_output \u001b[39m=\u001b[39m function(\u001b[39m*\u001b[39m\u001b[39m*\u001b[39minputs)\n\u001b[0;32m     66\u001b[0m end \u001b[39m=\u001b[39m timer()\n\u001b[0;32m     68\u001b[0m runtime \u001b[39m=\u001b[39m math\u001b[39m.\u001b[39mceil((end \u001b[39m-\u001b[39m start)\u001b[39m*\u001b[39m\u001b[39m1e6\u001b[39m)\u001b[39m/\u001b[39m\u001b[39m1000\u001b[39m\n",
      "Cell \u001b[1;32mIn[21], line 13\u001b[0m, in \u001b[0;36mquery_cards\u001b[1;34m(cards, query)\u001b[0m\n\u001b[0;32m     11\u001b[0m \u001b[38;5;28;01mwhile\u001b[39;00m \u001b[38;5;28;01mTrue\u001b[39;00m:\n\u001b[0;32m     12\u001b[0m     \u001b[38;5;28mprint\u001b[39m(\u001b[38;5;124m'\u001b[39m\u001b[38;5;124mposition:\u001b[39m\u001b[38;5;124m'\u001b[39m, position)\n\u001b[1;32m---> 13\u001b[0m     \u001b[38;5;28;01mif\u001b[39;00m \u001b[43mcards\u001b[49m\u001b[43m[\u001b[49m\u001b[43mposition\u001b[49m\u001b[43m]\u001b[49m \u001b[38;5;241m==\u001b[39m query:\n\u001b[0;32m     14\u001b[0m         \u001b[38;5;28;01mreturn\u001b[39;00m position\n\u001b[0;32m     16\u001b[0m     position\u001b[38;5;241m=\u001b[39m position \u001b[38;5;241m+\u001b[39m \u001b[38;5;241m1\u001b[39m\n",
      "\u001b[1;31mIndexError\u001b[0m: list index out of range"
     ]
    }
   ],
   "source": [
    "evaluate_test_cases(query_cards, tests)"
   ]
  },
  {
   "cell_type": "code",
   "execution_count": null,
   "metadata": {},
   "outputs": [
    {
     "name": "stdout",
     "output_type": "stream",
     "text": [
      "cards: []\n",
      "query: -1\n",
      "position: 0\n"
     ]
    },
    {
     "ename": "IndexError",
     "evalue": "list index out of range",
     "output_type": "error",
     "traceback": [
      "\u001b[1;31m---------------------------------------------------------------------------\u001b[0m",
      "\u001b[1;31mIndexError\u001b[0m                                Traceback (most recent call last)",
      "Cell \u001b[1;32mIn[28], line 4\u001b[0m\n\u001b[0;32m      1\u001b[0m cards6\u001b[38;5;241m=\u001b[39m tests[\u001b[38;5;241m6\u001b[39m][\u001b[38;5;124m'\u001b[39m\u001b[38;5;124minput\u001b[39m\u001b[38;5;124m'\u001b[39m][\u001b[38;5;124m'\u001b[39m\u001b[38;5;124mcards\u001b[39m\u001b[38;5;124m'\u001b[39m]\n\u001b[0;32m      2\u001b[0m query6 \u001b[38;5;241m=\u001b[39m tests[\u001b[38;5;241m6\u001b[39m][\u001b[38;5;124m'\u001b[39m\u001b[38;5;124minput\u001b[39m\u001b[38;5;124m'\u001b[39m][\u001b[38;5;124m'\u001b[39m\u001b[38;5;124mquery\u001b[39m\u001b[38;5;124m'\u001b[39m]\n\u001b[1;32m----> 4\u001b[0m \u001b[43mquery_cards\u001b[49m\u001b[43m(\u001b[49m\u001b[43mcards6\u001b[49m\u001b[43m,\u001b[49m\u001b[43m \u001b[49m\u001b[43mquery6\u001b[49m\u001b[43m)\u001b[49m\n",
      "Cell \u001b[1;32mIn[25], line 13\u001b[0m, in \u001b[0;36mquery_cards\u001b[1;34m(cards, query)\u001b[0m\n\u001b[0;32m     11\u001b[0m \u001b[38;5;28;01mwhile\u001b[39;00m \u001b[38;5;28;01mTrue\u001b[39;00m:\n\u001b[0;32m     12\u001b[0m     \u001b[38;5;28mprint\u001b[39m(\u001b[38;5;124m'\u001b[39m\u001b[38;5;124mposition:\u001b[39m\u001b[38;5;124m'\u001b[39m, position)\n\u001b[1;32m---> 13\u001b[0m     \u001b[38;5;28;01mif\u001b[39;00m \u001b[43mcards\u001b[49m\u001b[43m[\u001b[49m\u001b[43mposition\u001b[49m\u001b[43m]\u001b[49m \u001b[38;5;241m==\u001b[39m query:\n\u001b[0;32m     14\u001b[0m         \u001b[38;5;28;01mreturn\u001b[39;00m position\n\u001b[0;32m     16\u001b[0m     position\u001b[38;5;241m=\u001b[39m position \u001b[38;5;241m+\u001b[39m \u001b[38;5;241m1\u001b[39m\n",
      "\u001b[1;31mIndexError\u001b[0m: list index out of range"
     ]
    },
    {
     "ename": "",
     "evalue": "",
     "output_type": "error",
     "traceback": [
      "\u001b[1;31mFailed to start the Kernel. \n",
      "Unable to start Kernel 'Python 3.10.5 64-bit' due to connection timeout. \n",
      "View Jupyter <a href='command:jupyter.viewOutput'>log</a> for further details."
     ]
    },
    {
     "ename": "",
     "evalue": "",
     "output_type": "error",
     "traceback": [
      "\u001b[1;31mFailed to start the Kernel. \n",
      "Unable to start Kernel 'Python 3.10.5 64-bit' due to connection timeout. \n",
      "View Jupyter <a href='command:jupyter.viewOutput'>log</a> for further details."
     ]
    }
   ],
   "source": [
    "cards6= tests[6]['input']['cards']\n",
    "query6 = tests[6]['input']['query']\n",
    "\n",
    "query_cards(cards6, query6)"
   ]
  },
  {
   "cell_type": "code",
   "execution_count": null,
   "metadata": {},
   "outputs": [
    {
     "ename": "",
     "evalue": "",
     "output_type": "error",
     "traceback": [
      "\u001b[1;31mFailed to start the Kernel. \n",
      "Unable to start Kernel 'Python 3.10.5 64-bit' due to connection timeout. \n",
      "View Jupyter <a href='command:jupyter.viewOutput'>log</a> for further details."
     ]
    }
   ],
   "source": [
    "\n",
    "def query_cards(cards, query):\n",
    "    \n",
    "    #Brute force method\n",
    "    #Name a variable\n",
    "    print('cards:', cards)\n",
    "    print('query:', query)\n",
    "\n",
    "    position = 0\n",
    "\n",
    "    #Then loop\n",
    "    while position < len(cards):\n",
    "        print('position:', position)\n",
    "        if cards[position] == query:\n",
    "            return position\n",
    "\n",
    "        position= position + 1\n",
    "    return -1\n"
   ]
  },
  {
   "cell_type": "code",
   "execution_count": null,
   "metadata": {},
   "outputs": [
    {
     "name": "stdout",
     "output_type": "stream",
     "text": [
      "cards: []\n",
      "query: -1\n"
     ]
    },
    {
     "data": {
      "text/plain": [
       "-1"
      ]
     },
     "execution_count": 219,
     "metadata": {},
     "output_type": "execute_result"
    },
    {
     "ename": "",
     "evalue": "",
     "output_type": "error",
     "traceback": [
      "\u001b[1;31mFailed to start the Kernel. \n",
      "Unable to start Kernel 'Python 3.10.5 64-bit' due to connection timeout. \n",
      "View Jupyter <a href='command:jupyter.viewOutput'>log</a> for further details."
     ]
    },
    {
     "ename": "",
     "evalue": "",
     "output_type": "error",
     "traceback": [
      "\u001b[1;31mFailed to start the Kernel. \n",
      "Unable to start Kernel 'Python 3.10.5 64-bit' due to connection timeout. \n",
      "View Jupyter <a href='command:jupyter.viewOutput'>log</a> for further details."
     ]
    }
   ],
   "source": [
    "cards6= tests[6]['input']['cards']\n",
    "query6 = tests[6]['input']['query']\n",
    "\n",
    "query_cards(cards6, query6)"
   ]
  },
  {
   "cell_type": "code",
   "execution_count": null,
   "metadata": {},
   "outputs": [
    {
     "data": {
      "text/plain": [
       "[{'input': {'cards': [15, 9, 7, 6.9, 4, 1, 'card'], 'query': 7}, 'output': 2},\n",
       " {'input': {'cards': [15, 9, 7, 6.9, 4, 1, 'card'], 'query': 4}, 'output': 4},\n",
       " {'input': {'cards': [15, 9, 7, 6.9, 4, 1, 'card'], 'query': 15}, 'output': 0},\n",
       " {'input': {'cards': [15, 9, 7, 6.9, 4, 1, 'card'], 'query': 'card'},\n",
       "  'output': 6},\n",
       " {'input': {'cards': [15], 'query': 15}, 'output': 0},\n",
       " {'input': {'cards': [15, 9, 7, 6.9, 4, 1, 'card'], 'query': -1},\n",
       "  'output': -1},\n",
       " {'input': {'cards': [], 'query': -1}, 'output': -1},\n",
       " {'input': {'cards': [7, 1, 7, 6.9, 4, 1, 'card'], 'query': 'card'},\n",
       "  'output': 6},\n",
       " {'input': {'cards': [15, 9, 7, 6.9, 4, 7, 'card'], 'query': 7}, 'output': 2}]"
      ]
     },
     "execution_count": 72,
     "metadata": {},
     "output_type": "execute_result"
    },
    {
     "ename": "",
     "evalue": "",
     "output_type": "error",
     "traceback": [
      "\u001b[1;31mFailed to start the Kernel. \n",
      "Unable to start Kernel 'Python 3.10.5 64-bit' due to connection timeout. \n",
      "View Jupyter <a href='command:jupyter.viewOutput'>log</a> for further details."
     ]
    }
   ],
   "source": [
    "tests"
   ]
  },
  {
   "cell_type": "code",
   "execution_count": null,
   "metadata": {},
   "outputs": [
    {
     "name": "stdout",
     "output_type": "stream",
     "text": [
      "\n",
      "\u001b[1mTEST CASE #0\u001b[0m\n",
      "cards: [15, 9, 7, 6.9, 4, 1, 'card']\n",
      "query: 7\n",
      "position: 0\n",
      "position: 1\n",
      "position: 2\n",
      "\n",
      "Input:\n",
      "{'cards': [15, 9, 7, 6.9, 4, 1, 'card'], 'query': 7}\n",
      "\n",
      "Expected Output:\n",
      "2\n",
      "\n",
      "\n",
      "Actual Output:\n",
      "2\n",
      "\n",
      "Execution Time:\n",
      "0.191 ms\n",
      "\n",
      "Test Result:\n",
      "\u001b[92mPASSED\u001b[0m\n",
      "\n",
      "\n",
      "\u001b[1mTEST CASE #1\u001b[0m\n",
      "cards: [15, 9, 7, 6.9, 4, 1, 'card']\n",
      "query: 4\n",
      "position: 0\n",
      "position: 1\n",
      "position: 2\n",
      "position: 3\n",
      "position: 4\n",
      "\n",
      "Input:\n",
      "{'cards': [15, 9, 7, 6.9, 4, 1, 'card'], 'query': 4}\n",
      "\n",
      "Expected Output:\n",
      "4\n",
      "\n",
      "\n",
      "Actual Output:\n",
      "4\n",
      "\n",
      "Execution Time:\n",
      "0.126 ms\n",
      "\n",
      "Test Result:\n",
      "\u001b[92mPASSED\u001b[0m\n",
      "\n",
      "\n",
      "\u001b[1mTEST CASE #2\u001b[0m\n",
      "cards: [15, 9, 7, 6.9, 4, 1, 'card']\n",
      "query: 15\n",
      "position: 0\n",
      "\n",
      "Input:\n",
      "{'cards': [15, 9, 7, 6.9, 4, 1, 'card'], 'query': 15}\n",
      "\n",
      "Expected Output:\n",
      "0\n",
      "\n",
      "\n",
      "Actual Output:\n",
      "0\n",
      "\n",
      "Execution Time:\n",
      "0.061 ms\n",
      "\n",
      "Test Result:\n",
      "\u001b[92mPASSED\u001b[0m\n",
      "\n",
      "\n",
      "\u001b[1mTEST CASE #3\u001b[0m\n",
      "cards: [15, 9, 7, 6.9, 4, 1, 'card']\n",
      "query: card\n",
      "position: 0\n",
      "position: 1\n",
      "position: 2\n",
      "position: 3\n",
      "position: 4\n",
      "position: 5\n",
      "position: 6\n",
      "\n",
      "Input:\n",
      "{'cards': [15, 9, 7, 6.9, 4, 1, 'card'], 'query': 'card'}\n",
      "\n",
      "Expected Output:\n",
      "6\n",
      "\n",
      "\n",
      "Actual Output:\n",
      "6\n",
      "\n",
      "Execution Time:\n",
      "0.164 ms\n",
      "\n",
      "Test Result:\n",
      "\u001b[92mPASSED\u001b[0m\n",
      "\n",
      "\n",
      "\u001b[1mTEST CASE #4\u001b[0m\n",
      "cards: [15]\n",
      "query: 15\n",
      "position: 0\n",
      "\n",
      "Input:\n",
      "{'cards': [15], 'query': 15}\n",
      "\n",
      "Expected Output:\n",
      "0\n",
      "\n",
      "\n",
      "Actual Output:\n",
      "0\n",
      "\n",
      "Execution Time:\n",
      "0.067 ms\n",
      "\n",
      "Test Result:\n",
      "\u001b[92mPASSED\u001b[0m\n",
      "\n",
      "\n",
      "\u001b[1mTEST CASE #5\u001b[0m\n",
      "cards: [15, 9, 7, 6.9, 4, 1, 'card']\n",
      "query: -1\n",
      "position: 0\n",
      "position: 1\n",
      "position: 2\n",
      "position: 3\n",
      "position: 4\n",
      "position: 5\n",
      "position: 6\n",
      "\n",
      "Input:\n",
      "{'cards': [15, 9, 7, 6.9, 4, 1, 'card'], 'query': -1}\n",
      "\n",
      "Expected Output:\n",
      "-1\n",
      "\n",
      "\n",
      "Actual Output:\n",
      "-1\n",
      "\n",
      "Execution Time:\n",
      "0.166 ms\n",
      "\n",
      "Test Result:\n",
      "\u001b[92mPASSED\u001b[0m\n",
      "\n",
      "\n",
      "\u001b[1mTEST CASE #6\u001b[0m\n",
      "cards: []\n",
      "query: -1\n",
      "\n",
      "Input:\n",
      "{'cards': [], 'query': -1}\n",
      "\n",
      "Expected Output:\n",
      "-1\n",
      "\n",
      "\n",
      "Actual Output:\n",
      "-1\n",
      "\n",
      "Execution Time:\n",
      "0.037 ms\n",
      "\n",
      "Test Result:\n",
      "\u001b[92mPASSED\u001b[0m\n",
      "\n",
      "\n",
      "\u001b[1mTEST CASE #7\u001b[0m\n",
      "cards: [7, 1, 7, 6.9, 4, 1, 'card']\n",
      "query: card\n",
      "position: 0\n",
      "position: 1\n",
      "position: 2\n",
      "position: 3\n",
      "position: 4\n",
      "position: 5\n",
      "position: 6\n",
      "\n",
      "Input:\n",
      "{'cards': [7, 1, 7, 6.9, 4, 1, 'card'], 'query': 'card'}\n",
      "\n",
      "Expected Output:\n",
      "6\n",
      "\n",
      "\n",
      "Actual Output:\n",
      "6\n",
      "\n",
      "Execution Time:\n",
      "0.159 ms\n",
      "\n",
      "Test Result:\n",
      "\u001b[92mPASSED\u001b[0m\n",
      "\n",
      "\n",
      "\u001b[1mTEST CASE #8\u001b[0m\n",
      "cards: [15, 9, 7, 6.9, 4, 7, 'card']\n",
      "query: 7\n",
      "position: 0\n",
      "position: 1\n",
      "position: 2\n",
      "\n",
      "Input:\n",
      "{'cards': [15, 9, 7, 6.9, 4, 7, 'card'], 'query': 7}\n",
      "\n",
      "Expected Output:\n",
      "2\n",
      "\n",
      "\n",
      "Actual Output:\n",
      "2\n",
      "\n",
      "Execution Time:\n",
      "0.091 ms\n",
      "\n",
      "Test Result:\n",
      "\u001b[92mPASSED\u001b[0m\n",
      "\n",
      "\n",
      "\u001b[1mSUMMARY\u001b[0m\n",
      "\n",
      "TOTAL: 9, \u001b[92mPASSED\u001b[0m: 9, \u001b[91mFAILED\u001b[0m: 0\n"
     ]
    },
    {
     "data": {
      "text/plain": [
       "[(2, True, 0.191),\n",
       " (4, True, 0.126),\n",
       " (0, True, 0.061),\n",
       " (6, True, 0.164),\n",
       " (0, True, 0.067),\n",
       " (-1, True, 0.166),\n",
       " (-1, True, 0.037),\n",
       " (6, True, 0.159),\n",
       " (2, True, 0.091)]"
      ]
     },
     "execution_count": 73,
     "metadata": {},
     "output_type": "execute_result"
    },
    {
     "ename": "",
     "evalue": "",
     "output_type": "error",
     "traceback": [
      "\u001b[1;31mFailed to start the Kernel. \n",
      "Unable to start Kernel 'Python 3.10.5 64-bit' due to connection timeout. \n",
      "View Jupyter <a href='command:jupyter.viewOutput'>log</a> for further details."
     ]
    }
   ],
   "source": [
    "evaluate_test_cases(query_cards, tests)"
   ]
  },
  {
   "cell_type": "code",
   "execution_count": 24,
   "metadata": {},
   "outputs": [],
   "source": [
    "\n",
    "def query_cards(cards, query):\n",
    "    low, high = 0, len(cards) - 1\n",
    "    \n",
    "    #Brute force method\n",
    "    #Name a variable\n",
    "    print('cards:', cards)\n",
    "    print('query:', query)\n",
    "\n",
    "\n",
    "    #Then loop\n",
    "    while low <= high:\n",
    "        middle_value = (low + high) // 2\n",
    "        middle_number = cards[middle_value]\n",
    "\n",
    "        print('middle_value:', middle_value, 'high:', high, 'low:', low, 'middle_number:', middle_number)\n",
    "\n",
    "        if middle_number == query:\n",
    "            return middle_value\n",
    "        elif middle_number < query:\n",
    "            high = middle_value - 1\n",
    "        elif middle_number > query:\n",
    "            low = middle_value + 1\n",
    "\n",
    "    return -1"
   ]
  },
  {
   "cell_type": "code",
   "execution_count": 25,
   "metadata": {},
   "outputs": [
    {
     "data": {
      "text/plain": [
       "[{'input': {'cards': [15, 9, 7, 6.9, 4, 1, 'card'], 'query': 7}, 'output': 2},\n",
       " {'input': {'cards': [15, 9, 7, 6.9, 4, 1, 'card'], 'query': 4}, 'output': 4},\n",
       " {'input': {'cards': [15, 9, 7, 6.9, 4, 1, 'card'], 'query': 15}, 'output': 0},\n",
       " {'input': {'cards': [15, 9, 7, 6.9, 4, 2, 'card'], 'query': 2}, 'output': 5},\n",
       " {'input': {'cards': [15], 'query': 15}, 'output': 0},\n",
       " {'input': {'cards': [15, 9, 7, 6.9, 4, 1, 0], 'query': -1}, 'output': -1},\n",
       " {'input': {'cards': [], 'query': -1}, 'output': -1},\n",
       " {'input': {'cards': [7, 1, 7, 6.9, 4, 1, 3, 'card'], 'query': 3},\n",
       "  'output': 6.9},\n",
       " {'input': {'cards': [15, 9, 7, 7, 7, 6.9, 4, 7, 'card'], 'query': 7},\n",
       "  'output': 2}]"
      ]
     },
     "execution_count": 25,
     "metadata": {},
     "output_type": "execute_result"
    }
   ],
   "source": [
    "tests"
   ]
  },
  {
   "cell_type": "code",
   "execution_count": 26,
   "metadata": {},
   "outputs": [
    {
     "name": "stdout",
     "output_type": "stream",
     "text": [
      "\n",
      "\u001b[1mTEST CASE #0\u001b[0m\n",
      "cards: [15, 9, 7, 6.9, 4, 1, 'card']\n",
      "query: 7\n",
      "middle_value: 3 high: 6 low: 0 middle_number: 6.9\n",
      "middle_value: 1 high: 2 low: 0 middle_number: 9\n",
      "middle_value: 2 high: 2 low: 2 middle_number: 7\n",
      "\n",
      "Input:\n",
      "{'cards': [15, 9, 7, 6.9, 4, 1, 'card'], 'query': 7}\n",
      "\n",
      "Expected Output:\n",
      "2\n",
      "\n",
      "\n",
      "Actual Output:\n",
      "2\n",
      "\n",
      "Execution Time:\n",
      "0.605 ms\n",
      "\n",
      "Test Result:\n",
      "\u001b[92mPASSED\u001b[0m\n",
      "\n",
      "\n",
      "\u001b[1mTEST CASE #1\u001b[0m\n",
      "cards: [15, 9, 7, 6.9, 4, 1, 'card']\n",
      "query: 4\n",
      "middle_value: 3 high: 6 low: 0 middle_number: 6.9\n",
      "middle_value: 5 high: 6 low: 4 middle_number: 1\n",
      "middle_value: 4 high: 4 low: 4 middle_number: 4\n",
      "\n",
      "Input:\n",
      "{'cards': [15, 9, 7, 6.9, 4, 1, 'card'], 'query': 4}\n",
      "\n",
      "Expected Output:\n",
      "4\n",
      "\n",
      "\n",
      "Actual Output:\n",
      "4\n",
      "\n",
      "Execution Time:\n",
      "0.264 ms\n",
      "\n",
      "Test Result:\n",
      "\u001b[92mPASSED\u001b[0m\n",
      "\n",
      "\n",
      "\u001b[1mTEST CASE #2\u001b[0m\n",
      "cards: [15, 9, 7, 6.9, 4, 1, 'card']\n",
      "query: 15\n",
      "middle_value: 3 high: 6 low: 0 middle_number: 6.9\n",
      "middle_value: 1 high: 2 low: 0 middle_number: 9\n",
      "middle_value: 0 high: 0 low: 0 middle_number: 15\n",
      "\n",
      "Input:\n",
      "{'cards': [15, 9, 7, 6.9, 4, 1, 'card'], 'query': 15}\n",
      "\n",
      "Expected Output:\n",
      "0\n",
      "\n",
      "\n",
      "Actual Output:\n",
      "0\n",
      "\n",
      "Execution Time:\n",
      "0.318 ms\n",
      "\n",
      "Test Result:\n",
      "\u001b[92mPASSED\u001b[0m\n",
      "\n",
      "\n",
      "\u001b[1mTEST CASE #3\u001b[0m\n",
      "cards: [15, 9, 7, 6.9, 4, 2, 'card']\n",
      "query: 2\n",
      "middle_value: 3 high: 6 low: 0 middle_number: 6.9\n",
      "middle_value: 5 high: 6 low: 4 middle_number: 2\n",
      "\n",
      "Input:\n",
      "{'cards': [15, 9, 7, 6.9, 4, 2, 'card'], 'query': 2}\n",
      "\n",
      "Expected Output:\n",
      "5\n",
      "\n",
      "\n",
      "Actual Output:\n",
      "5\n",
      "\n",
      "Execution Time:\n",
      "0.198 ms\n",
      "\n",
      "Test Result:\n",
      "\u001b[92mPASSED\u001b[0m\n",
      "\n",
      "\n",
      "\u001b[1mTEST CASE #4\u001b[0m\n",
      "cards: [15]\n",
      "query: 15\n",
      "middle_value: 0 high: 0 low: 0 middle_number: 15\n",
      "\n",
      "Input:\n",
      "{'cards': [15], 'query': 15}\n",
      "\n",
      "Expected Output:\n",
      "0\n",
      "\n",
      "\n",
      "Actual Output:\n",
      "0\n",
      "\n",
      "Execution Time:\n",
      "0.117 ms\n",
      "\n",
      "Test Result:\n",
      "\u001b[92mPASSED\u001b[0m\n",
      "\n",
      "\n",
      "\u001b[1mTEST CASE #5\u001b[0m\n",
      "cards: [15, 9, 7, 6.9, 4, 1, 0]\n",
      "query: -1\n",
      "middle_value: 3 high: 6 low: 0 middle_number: 6.9\n",
      "middle_value: 5 high: 6 low: 4 middle_number: 1\n",
      "middle_value: 6 high: 6 low: 6 middle_number: 0\n",
      "\n",
      "Input:\n",
      "{'cards': [15, 9, 7, 6.9, 4, 1, 0], 'query': -1}\n",
      "\n",
      "Expected Output:\n",
      "-1\n",
      "\n",
      "\n",
      "Actual Output:\n",
      "-1\n",
      "\n",
      "Execution Time:\n",
      "0.259 ms\n",
      "\n",
      "Test Result:\n",
      "\u001b[92mPASSED\u001b[0m\n",
      "\n",
      "\n",
      "\u001b[1mTEST CASE #6\u001b[0m\n",
      "cards: []\n",
      "query: -1\n",
      "\n",
      "Input:\n",
      "{'cards': [], 'query': -1}\n",
      "\n",
      "Expected Output:\n",
      "-1\n",
      "\n",
      "\n",
      "Actual Output:\n",
      "-1\n",
      "\n",
      "Execution Time:\n",
      "0.039 ms\n",
      "\n",
      "Test Result:\n",
      "\u001b[92mPASSED\u001b[0m\n",
      "\n",
      "\n",
      "\u001b[1mTEST CASE #7\u001b[0m\n",
      "cards: [7, 1, 7, 6.9, 4, 1, 3, 'card']\n",
      "query: 3\n",
      "middle_value: 3 high: 7 low: 0 middle_number: 6.9\n",
      "middle_value: 5 high: 7 low: 4 middle_number: 1\n",
      "middle_value: 4 high: 4 low: 4 middle_number: 4\n",
      "\n",
      "Input:\n",
      "{'cards': [7, 1, 7, 6.9, 4, 1, 3, 'card'], 'query': 3}\n",
      "\n",
      "Expected Output:\n",
      "6.9\n",
      "\n",
      "\n",
      "Actual Output:\n",
      "-1\n",
      "\n",
      "Execution Time:\n",
      "0.274 ms\n",
      "\n",
      "Test Result:\n",
      "\u001b[91mFAILED\u001b[0m\n",
      "\n",
      "\n",
      "\u001b[1mTEST CASE #8\u001b[0m\n",
      "cards: [15, 9, 7, 7, 7, 6.9, 4, 7, 'card']\n",
      "query: 7\n",
      "middle_value: 4 high: 8 low: 0 middle_number: 7\n",
      "\n",
      "Input:\n",
      "{'cards': [15, 9, 7, 7, 7, 6.9, 4, 7, 'card'], 'query': 7}\n",
      "\n",
      "Expected Output:\n",
      "2\n",
      "\n",
      "\n",
      "Actual Output:\n",
      "4\n",
      "\n",
      "Execution Time:\n",
      "0.128 ms\n",
      "\n",
      "Test Result:\n",
      "\u001b[91mFAILED\u001b[0m\n",
      "\n",
      "\n",
      "\u001b[1mSUMMARY\u001b[0m\n",
      "\n",
      "TOTAL: 9, \u001b[92mPASSED\u001b[0m: 7, \u001b[91mFAILED\u001b[0m: 2\n"
     ]
    },
    {
     "data": {
      "text/plain": [
       "[(2, True, 0.605),\n",
       " (4, True, 0.264),\n",
       " (0, True, 0.318),\n",
       " (5, True, 0.198),\n",
       " (0, True, 0.117),\n",
       " (-1, True, 0.259),\n",
       " (-1, True, 0.039),\n",
       " (-1, False, 0.274),\n",
       " (4, False, 0.128)]"
      ]
     },
     "execution_count": 26,
     "metadata": {},
     "output_type": "execute_result"
    }
   ],
   "source": [
    "evaluate_test_cases(query_cards, tests)"
   ]
  },
  {
   "cell_type": "code",
   "execution_count": null,
   "metadata": {},
   "outputs": [
    {
     "ename": "",
     "evalue": "",
     "output_type": "error",
     "traceback": [
      "\u001b[1;31mFailed to start the Kernel. \n",
      "Unable to start Kernel 'Python 3.10.5 64-bit' due to connection timeout. \n",
      "View Jupyter <a href='command:jupyter.viewOutput'>log</a> for further details."
     ]
    }
   ],
   "source": [
    "def test_location(cards, query, middle_value):\n",
    "    mid_number= cards[middle_value]\n",
    "    print('mid:', middle_value, 'mid_number:', mid_number)\n",
    "    if mid_number ==query:\n",
    "        if middle_value-1 >= 0 and cards[middle_value-1] == query:\n",
    "            return 'left'\n",
    "        else:\n",
    "            return 'found'\n",
    "    elif mid_number < query:\n",
    "        return 'left'\n",
    "    else:\n",
    "        return 'right'\n",
    "\n",
    "def query_cards(cards, query):\n",
    "    low, high = 0, len(cards) - 1\n",
    "    \n",
    "    #Brute force method\n",
    "    #Name a variable\n",
    "    print('cards:', cards)\n",
    "    print('query:', query)\n",
    "\n",
    "\n",
    "    #Then loop\n",
    "    while low <= high:\n",
    "        middle_value = (low + high) // 2\n",
    "        result = test_location(cards, query, middle_value)\n",
    "\n",
    "        print('middle_value:', middle_value, 'high:', high, 'low:', low)\n",
    "\n",
    "        if result == 'found':\n",
    "            return middle_value\n",
    "        elif result <= 'left':\n",
    "            high = middle_value - 1\n",
    "        elif result >= 'right':\n",
    "            low = middle_value + 1\n",
    "\n",
    "    return -1\n"
   ]
  },
  {
   "cell_type": "code",
   "execution_count": null,
   "metadata": {},
   "outputs": [
    {
     "data": {
      "text/plain": [
       "[{'input': {'cards': [15, 9, 7, 6.9, 4, 1, 'card'], 'query': 7}, 'output': 2},\n",
       " {'input': {'cards': [15, 9, 7, 6.9, 4, 1, 'card'], 'query': 4}, 'output': 4},\n",
       " {'input': {'cards': [15, 9, 7, 6.9, 4, 1, 'card'], 'query': 15}, 'output': 0},\n",
       " {'input': {'cards': [15, 9, 7, 6.9, 4, 2, 'card'], 'query': 2}, 'output': 5},\n",
       " {'input': {'cards': [15], 'query': 15}, 'output': 0},\n",
       " {'input': {'cards': [15, 9, 7, 6.9, 4, 1, 0], 'query': -1}, 'output': -1},\n",
       " {'input': {'cards': [], 'query': -1}, 'output': -1},\n",
       " {'input': {'cards': [7, 1, 7, 6.9, 4, 1, 3, 'card'], 'query': 3},\n",
       "  'output': 6.9},\n",
       " {'input': {'cards': [15, 9, 7, 7, 7, 6.9, 4, 7, 'card'], 'query': 7},\n",
       "  'output': 2}]"
      ]
     },
     "execution_count": 208,
     "metadata": {},
     "output_type": "execute_result"
    },
    {
     "ename": "",
     "evalue": "",
     "output_type": "error",
     "traceback": [
      "\u001b[1;31mFailed to start the Kernel. \n",
      "Unable to start Kernel 'Python 3.10.5 64-bit' due to connection timeout. \n",
      "View Jupyter <a href='command:jupyter.viewOutput'>log</a> for further details."
     ]
    }
   ],
   "source": [
    "tests"
   ]
  },
  {
   "cell_type": "code",
   "execution_count": null,
   "metadata": {},
   "outputs": [
    {
     "name": "stdout",
     "output_type": "stream",
     "text": [
      "\n",
      "\u001b[1mTEST CASE #0\u001b[0m\n",
      "cards: [15, 9, 7, 6.9, 4, 1, 'card']\n",
      "query: 7\n",
      "mid: 3 mid_number: 6.9\n",
      "middle_value: 3 high: 6 low: 0\n",
      "mid: 1 mid_number: 9\n",
      "middle_value: 1 high: 2 low: 0\n",
      "mid: 2 mid_number: 7\n",
      "middle_value: 2 high: 2 low: 2\n",
      "\n",
      "Input:\n",
      "{'cards': [15, 9, 7, 6.9, 4, 1, 'card'], 'query': 7}\n",
      "\n",
      "Expected Output:\n",
      "2\n",
      "\n",
      "\n",
      "Actual Output:\n",
      "2\n",
      "\n",
      "Execution Time:\n",
      "7.401 ms\n",
      "\n",
      "Test Result:\n",
      "\u001b[92mPASSED\u001b[0m\n",
      "\n",
      "\n",
      "\u001b[1mTEST CASE #1\u001b[0m\n",
      "cards: [15, 9, 7, 6.9, 4, 1, 'card']\n",
      "query: 4\n",
      "mid: 3 mid_number: 6.9\n",
      "middle_value: 3 high: 6 low: 0\n",
      "mid: 5 mid_number: 1\n",
      "middle_value: 5 high: 6 low: 4\n",
      "mid: 4 mid_number: 4\n",
      "middle_value: 4 high: 4 low: 4\n",
      "\n",
      "Input:\n",
      "{'cards': [15, 9, 7, 6.9, 4, 1, 'card'], 'query': 4}\n",
      "\n",
      "Expected Output:\n",
      "4\n",
      "\n",
      "\n",
      "Actual Output:\n",
      "4\n",
      "\n",
      "Execution Time:\n",
      "0.258 ms\n",
      "\n",
      "Test Result:\n",
      "\u001b[92mPASSED\u001b[0m\n",
      "\n",
      "\n",
      "\u001b[1mTEST CASE #2\u001b[0m\n",
      "cards: [15, 9, 7, 6.9, 4, 1, 'card']\n",
      "query: 15\n",
      "mid: 3 mid_number: 6.9\n",
      "middle_value: 3 high: 6 low: 0\n",
      "mid: 1 mid_number: 9\n",
      "middle_value: 1 high: 2 low: 0\n",
      "mid: 0 mid_number: 15\n",
      "middle_value: 0 high: 0 low: 0\n",
      "\n",
      "Input:\n",
      "{'cards': [15, 9, 7, 6.9, 4, 1, 'card'], 'query': 15}\n",
      "\n",
      "Expected Output:\n",
      "0\n",
      "\n",
      "\n",
      "Actual Output:\n",
      "0\n",
      "\n",
      "Execution Time:\n",
      "0.272 ms\n",
      "\n",
      "Test Result:\n",
      "\u001b[92mPASSED\u001b[0m\n",
      "\n",
      "\n",
      "\u001b[1mTEST CASE #3\u001b[0m\n",
      "cards: [15, 9, 7, 6.9, 4, 2, 'card']\n",
      "query: 2\n",
      "mid: 3 mid_number: 6.9\n",
      "middle_value: 3 high: 6 low: 0\n",
      "mid: 5 mid_number: 2\n",
      "middle_value: 5 high: 6 low: 4\n",
      "\n",
      "Input:\n",
      "{'cards': [15, 9, 7, 6.9, 4, 2, 'card'], 'query': 2}\n",
      "\n",
      "Expected Output:\n",
      "5\n",
      "\n",
      "\n",
      "Actual Output:\n",
      "5\n",
      "\n",
      "Execution Time:\n",
      "0.223 ms\n",
      "\n",
      "Test Result:\n",
      "\u001b[92mPASSED\u001b[0m\n",
      "\n",
      "\n",
      "\u001b[1mTEST CASE #4\u001b[0m\n",
      "cards: [15]\n",
      "query: 15\n",
      "mid: 0 mid_number: 15\n",
      "middle_value: 0 high: 0 low: 0\n",
      "\n",
      "Input:\n",
      "{'cards': [15], 'query': 15}\n",
      "\n",
      "Expected Output:\n",
      "0\n",
      "\n",
      "\n",
      "Actual Output:\n",
      "0\n",
      "\n",
      "Execution Time:\n",
      "0.125 ms\n",
      "\n",
      "Test Result:\n",
      "\u001b[92mPASSED\u001b[0m\n",
      "\n",
      "\n",
      "\u001b[1mTEST CASE #5\u001b[0m\n",
      "cards: [15, 9, 7, 6.9, 4, 1, 0]\n",
      "query: -1\n",
      "mid: 3 mid_number: 6.9\n",
      "middle_value: 3 high: 6 low: 0\n",
      "mid: 5 mid_number: 1\n",
      "middle_value: 5 high: 6 low: 4\n",
      "mid: 6 mid_number: 0\n",
      "middle_value: 6 high: 6 low: 6\n",
      "\n",
      "Input:\n",
      "{'cards': [15, 9, 7, 6.9, 4, 1, 0], 'query': -1}\n",
      "\n",
      "Expected Output:\n",
      "-1\n",
      "\n",
      "\n",
      "Actual Output:\n",
      "-1\n",
      "\n",
      "Execution Time:\n",
      "0.279 ms\n",
      "\n",
      "Test Result:\n",
      "\u001b[92mPASSED\u001b[0m\n",
      "\n",
      "\n",
      "\u001b[1mTEST CASE #6\u001b[0m\n",
      "cards: []\n",
      "query: -1\n",
      "\n",
      "Input:\n",
      "{'cards': [], 'query': -1}\n",
      "\n",
      "Expected Output:\n",
      "-1\n",
      "\n",
      "\n",
      "Actual Output:\n",
      "-1\n",
      "\n",
      "Execution Time:\n",
      "0.034 ms\n",
      "\n",
      "Test Result:\n",
      "\u001b[92mPASSED\u001b[0m\n",
      "\n",
      "\n",
      "\u001b[1mTEST CASE #7\u001b[0m\n",
      "cards: [7, 1, 7, 6.9, 4, 1, 3, 'card']\n",
      "query: 3\n",
      "mid: 3 mid_number: 6.9\n",
      "middle_value: 3 high: 7 low: 0\n",
      "mid: 5 mid_number: 1\n",
      "middle_value: 5 high: 7 low: 4\n",
      "mid: 4 mid_number: 4\n",
      "middle_value: 4 high: 4 low: 4\n",
      "\n",
      "Input:\n",
      "{'cards': [7, 1, 7, 6.9, 4, 1, 3, 'card'], 'query': 3}\n",
      "\n",
      "Expected Output:\n",
      "6.9\n",
      "\n",
      "\n",
      "Actual Output:\n",
      "-1\n",
      "\n",
      "Execution Time:\n",
      "0.423 ms\n",
      "\n",
      "Test Result:\n",
      "\u001b[91mFAILED\u001b[0m\n",
      "\n",
      "\n",
      "\u001b[1mTEST CASE #8\u001b[0m\n",
      "cards: [15, 9, 7, 7, 7, 6.9, 4, 7, 'card']\n",
      "query: 7\n",
      "mid: 4 mid_number: 7\n",
      "middle_value: 4 high: 8 low: 0\n",
      "mid: 1 mid_number: 9\n",
      "middle_value: 1 high: 3 low: 0\n",
      "mid: 2 mid_number: 7\n",
      "middle_value: 2 high: 3 low: 2\n",
      "\n",
      "Input:\n",
      "{'cards': [15, 9, 7, 7, 7, 6.9, 4, 7, 'card'], 'query': 7}\n",
      "\n",
      "Expected Output:\n",
      "2\n",
      "\n",
      "\n",
      "Actual Output:\n",
      "2\n",
      "\n",
      "Execution Time:\n",
      "0.32 ms\n",
      "\n",
      "Test Result:\n",
      "\u001b[92mPASSED\u001b[0m\n",
      "\n",
      "\n",
      "\u001b[1mSUMMARY\u001b[0m\n",
      "\n",
      "TOTAL: 9, \u001b[92mPASSED\u001b[0m: 8, \u001b[91mFAILED\u001b[0m: 1\n"
     ]
    },
    {
     "data": {
      "text/plain": [
       "[(2, True, 7.401),\n",
       " (4, True, 0.258),\n",
       " (0, True, 0.272),\n",
       " (5, True, 0.223),\n",
       " (0, True, 0.125),\n",
       " (-1, True, 0.279),\n",
       " (-1, True, 0.034),\n",
       " (-1, False, 0.423),\n",
       " (2, True, 0.32)]"
      ]
     },
     "execution_count": 209,
     "metadata": {},
     "output_type": "execute_result"
    },
    {
     "ename": "",
     "evalue": "",
     "output_type": "error",
     "traceback": [
      "\u001b[1;31mFailed to start the Kernel. \n",
      "Unable to start Kernel 'Python 3.10.5 64-bit' due to connection timeout. \n",
      "View Jupyter <a href='command:jupyter.viewOutput'>log</a> for further details."
     ]
    }
   ],
   "source": [
    "evaluate_test_cases(query_cards, tests)"
   ]
  },
  {
   "cell_type": "code",
   "execution_count": null,
   "metadata": {},
   "outputs": [
    {
     "ename": "",
     "evalue": "",
     "output_type": "error",
     "traceback": [
      "\u001b[1;31mFailed to start the Kernel. \n",
      "Unable to start Kernel 'Python 3.10.5 64-bit' due to connection timeout. \n",
      "View Jupyter <a href='command:jupyter.viewOutput'>log</a> for further details."
     ]
    }
   ],
   "source": [
    "\n",
    "def locate_card_linear(cards, query):\n",
    "    position = 0\n",
    "    while position < len(cards):\n",
    "        if cards[position] == query:\n",
    "            return position\n",
    "        position += 1\n",
    "    return -1"
   ]
  },
  {
   "cell_type": "code",
   "execution_count": null,
   "metadata": {},
   "outputs": [
    {
     "ename": "",
     "evalue": "",
     "output_type": "error",
     "traceback": [
      "\u001b[1;31mFailed to start the Kernel. \n",
      "Unable to start Kernel 'Python 3.10.5 64-bit' due to connection timeout. \n",
      "View Jupyter <a href='command:jupyter.viewOutput'>log</a> for further details."
     ]
    }
   ],
   "source": [
    "large_test = {\n",
    "    'input' : {\n",
    "        'cards': list(range(10000000,  0, -1)),\n",
    "        'query': 2\n",
    "    },\n",
    "    'output': 9999998\n",
    "}"
   ]
  },
  {
   "cell_type": "code",
   "execution_count": null,
   "metadata": {},
   "outputs": [
    {
     "name": "stdout",
     "output_type": "stream",
     "text": [
      "result: 9999998\n",
      "passed: True\n",
      "runtime: 7474.642\n",
      "result: \n",
      " passed: \n",
      " runtime:\n"
     ]
    },
    {
     "ename": "",
     "evalue": "",
     "output_type": "error",
     "traceback": [
      "\u001b[1;31mFailed to start the Kernel. \n",
      "Unable to start Kernel 'Python 3.10.5 64-bit' due to connection timeout. \n",
      "View Jupyter <a href='command:jupyter.viewOutput'>log</a> for further details."
     ]
    }
   ],
   "source": [
    "\n",
    "result, passed, runtime =  evaluate_test_case(locate_card_linear, large_test, display=False)\n",
    "\n",
    "print('result:', result)\n",
    "print('passed:', passed)\n",
    "print('runtime:', runtime)\n",
    "print('result: \\n passed: \\n runtime:'.format(result, passed, runtime) )"
   ]
  },
  {
   "cell_type": "code",
   "execution_count": null,
   "metadata": {},
   "outputs": [
    {
     "ename": "",
     "evalue": "",
     "output_type": "error",
     "traceback": [
      "\u001b[1;31mFailed to start the Kernel. \n",
      "Unable to start Kernel 'Python 3.10.5 64-bit' due to connection timeout. \n",
      "View Jupyter <a href='command:jupyter.viewOutput'>log</a> for further details."
     ]
    }
   ],
   "source": [
    "list = range(1000)\n",
    "find_number= 6\n",
    "def binary_search_eg(list, find_number, mid):\n",
    "    lo = 0\n",
    "    hi = len(list) - 1\n",
    "    while lo <= hi:\n",
    "        mid = (lo + hi) // 2\n",
    "        mid_num = list(mid)\n",
    "        if mid_num == query:\n",
    "            return mid_num\n",
    "        elif mid_num < query:\n",
    "            hi = mid -1\n",
    "        elif mid_num > query:\n",
    "            lo = mid + 1 \n",
    "        else:\n",
    "            return 'Number not found'\n",
    "    return -1\n"
   ]
  },
  {
   "cell_type": "code",
   "execution_count": null,
   "metadata": {},
   "outputs": [
    {
     "ename": "",
     "evalue": "",
     "output_type": "error",
     "traceback": [
      "\u001b[1;31mFailed to start the Kernel. \n",
      "Unable to start Kernel 'Python 3.10.5 64-bit' due to connection timeout. \n",
      "View Jupyter <a href='command:jupyter.viewOutput'>log</a> for further details."
     ]
    }
   ],
   "source": [
    "def binary_search(lo, hi, condition):\n",
    "    while lo<=hi:\n",
    "        mid = (lo + hi) // 2\n",
    "        result = condition(mid)\n",
    "        if result == 'found':\n",
    "            return mid\n",
    "        elif result == 'left':\n",
    "            hi = mid -1\n",
    "        elif result == 'right':\n",
    "            lo = mid + 1 \n",
    "        else:\n",
    "            return 'Number not found'\n",
    "    return -1"
   ]
  },
  {
   "cell_type": "code",
   "execution_count": null,
   "metadata": {},
   "outputs": [
    {
     "ename": "",
     "evalue": "",
     "output_type": "error",
     "traceback": [
      "\u001b[1;31mFailed to start the Kernel. \n",
      "Unable to start Kernel 'Python 3.10.5 64-bit' due to connection timeout. \n",
      "View Jupyter <a href='command:jupyter.viewOutput'>log</a> for further details."
     ]
    }
   ],
   "source": [
    "def query_cards(cards, query):\n",
    "\n",
    "    def condition(mid):\n",
    "        if cards[mid] == query:\n",
    "            if mid > 0 and cards[mid-1] == query:\n",
    "                return 'left'\n",
    "            else:\n",
    "                return 'found'\n",
    "        elif cards[mid] < query:\n",
    "            return 'left'\n",
    "        else:\n",
    "            return 'right'\n",
    "\n",
    "    return binary_search(0, len(cards) -1, condition)"
   ]
  }
 ],
 "metadata": {
  "kernelspec": {
   "display_name": "Python 3.10.5 64-bit",
   "language": "python",
   "name": "python3"
  },
  "language_info": {
   "codemirror_mode": {
    "name": "ipython",
    "version": 3
   },
   "file_extension": ".py",
   "mimetype": "text/x-python",
   "name": "python",
   "nbconvert_exporter": "python",
   "pygments_lexer": "ipython3",
   "version": "3.10.5"
  },
  "orig_nbformat": 4,
  "vscode": {
   "interpreter": {
    "hash": "3e07f9f0a1b5eb909177a9683b10ec61cfb464e1c382e9e3067578d992118575"
   }
  }
 },
 "nbformat": 4,
 "nbformat_minor": 2
}
