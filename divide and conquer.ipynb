{
 "cells": [
  {
   "cell_type": "markdown",
   "metadata": {},
   "source": [
    " write a function to sort a list of numbers in decreasing order of likes and your function needs to be efficient as possible.\n",
    "\n",
    "a function that sort in increasing order"
   ]
  },
  {
   "cell_type": "code",
   "execution_count": 1,
   "metadata": {},
   "outputs": [],
   "source": [
    "def sort_nums(nums):\n",
    "    pass"
   ]
  },
  {
   "cell_type": "code",
   "execution_count": 2,
   "metadata": {},
   "outputs": [],
   "source": [
    "#A list of numbers in random order\n",
    "test0 = {\n",
    "    'input': {\n",
    "        'nums': [3,4,2,8,7,1,9]\n",
    "    },\n",
    "    'output': [1,2,3,4,7,8,9]\n",
    "}"
   ]
  },
  {
   "cell_type": "code",
   "execution_count": 3,
   "metadata": {},
   "outputs": [],
   "source": [
    "# A list thats already sorted\n",
    "test1 = {\n",
    "    'input': {\n",
    "        'nums': [3, 7, 8, 15, 19, 24]\n",
    "    },\n",
    "    'output': [3, 7, 8, 15, 19, 24]\n",
    "}"
   ]
  },
  {
   "cell_type": "code",
   "execution_count": 4,
   "metadata": {},
   "outputs": [],
   "source": [
    "# A list thats sorted in descending order\n",
    "test2 = {\n",
    "    'input': {\n",
    "        'nums': [99, 88, 77, 66, 55, 44]\n",
    "    },\n",
    "    'output': [44,55,66,77,88,99]\n",
    "}"
   ]
  },
  {
   "cell_type": "code",
   "execution_count": 5,
   "metadata": {},
   "outputs": [],
   "source": [
    "# A list of repeating unsorted numbers\n",
    "\n",
    "test3 = {\n",
    "    'input': {\n",
    "        'nums': [22,55,33,22,33]\n",
    "    },\n",
    "    'output': [22,22,33,33,55]\n",
    "}"
   ]
  },
  {
   "cell_type": "code",
   "execution_count": 6,
   "metadata": {},
   "outputs": [],
   "source": [
    "# A list with one number repeating\n",
    "\n",
    "test4 = {\n",
    "    'input': {\n",
    "        'nums': [1,1,1,1,1,1]\n",
    "    },\n",
    "    'output': [1,1,1,1,1,1]\n",
    "}"
   ]
  },
  {
   "cell_type": "code",
   "execution_count": 7,
   "metadata": {},
   "outputs": [],
   "source": [
    "# An empty list\n",
    "test5 = {\n",
    "    'input': {\n",
    "        'nums': []\n",
    "    },\n",
    "    'output': []\n",
    "}"
   ]
  },
  {
   "cell_type": "code",
   "execution_count": 8,
   "metadata": {},
   "outputs": [],
   "source": [
    "# An list containing just one element\n",
    "\n",
    "test6 = {\n",
    "    'input': {\n",
    "        'nums': [23]\n",
    "    },\n",
    "    'output': [23]\n",
    "}"
   ]
  },
  {
   "cell_type": "code",
   "execution_count": 9,
   "metadata": {},
   "outputs": [],
   "source": [
    "import random\n",
    "in_list = list(range(10000))\n",
    "out_list = list(range(10000))\n",
    "random.shuffle(in_list)\n",
    "\n",
    "test7 = {\n",
    "    'input':{\n",
    "        'nums': in_list\n",
    "    },\n",
    "    'output': out_list\n",
    "}\n"
   ]
  },
  {
   "cell_type": "code",
   "execution_count": 10,
   "metadata": {},
   "outputs": [],
   "source": [
    "tests = [test0, test1, test2, test3, test4, test5, test6]"
   ]
  },
  {
   "cell_type": "code",
   "execution_count": 11,
   "metadata": {},
   "outputs": [],
   "source": [
    "def bubble_sort(nums):\n",
    "    nums = list(nums)\n",
    "\n",
    "    for _ in range(len(nums) - 1):\n",
    "\n",
    "        for i in range(len(nums) - 1):\n",
    "            if nums[i] > nums[i+1]:\n",
    "                nums[i], nums[i+1] = nums[i+1], nums[i]\n",
    "\n",
    "    return nums"
   ]
  },
  {
   "cell_type": "code",
   "execution_count": 12,
   "metadata": {},
   "outputs": [
    {
     "name": "stdout",
     "output_type": "stream",
     "text": [
      "{'input': {'nums': [3, 4, 2, 8, 7, 1, 9]}, 'output': [1, 2, 3, 4, 7, 8, 9]}\n",
      "numbers: [3, 4, 2, 8, 7, 1, 9]\n",
      "output: [1, 2, 3, 4, 7, 8, 9]\n",
      "result: [1, 2, 3, 4, 7, 8, 9]\n",
      "True\n",
      "{'input': {'nums': [3, 7, 8, 15, 19, 24]}, 'output': [3, 7, 8, 15, 19, 24]}\n",
      "numbers: [3, 7, 8, 15, 19, 24]\n",
      "output: [3, 7, 8, 15, 19, 24]\n",
      "result: [3, 7, 8, 15, 19, 24]\n",
      "True\n",
      "{'input': {'nums': [99, 88, 77, 66, 55, 44]}, 'output': [44, 55, 66, 77, 88, 99]}\n",
      "numbers: [99, 88, 77, 66, 55, 44]\n",
      "output: [44, 55, 66, 77, 88, 99]\n",
      "result: [44, 55, 66, 77, 88, 99]\n",
      "True\n",
      "{'input': {'nums': [22, 55, 33, 22, 33]}, 'output': [22, 22, 33, 33, 55]}\n",
      "numbers: [22, 55, 33, 22, 33]\n",
      "output: [22, 22, 33, 33, 55]\n",
      "result: [22, 22, 33, 33, 55]\n",
      "True\n",
      "{'input': {'nums': [1, 1, 1, 1, 1, 1]}, 'output': [1, 1, 1, 1, 1, 1]}\n",
      "numbers: [1, 1, 1, 1, 1, 1]\n",
      "output: [1, 1, 1, 1, 1, 1]\n",
      "result: [1, 1, 1, 1, 1, 1]\n",
      "True\n",
      "{'input': {'nums': []}, 'output': []}\n",
      "numbers: []\n",
      "output: []\n",
      "result: []\n",
      "True\n",
      "{'input': {'nums': [23]}, 'output': [23]}\n",
      "numbers: [23]\n",
      "output: [23]\n",
      "result: [23]\n",
      "True\n"
     ]
    }
   ],
   "source": [
    "for nums in tests:\n",
    "    print(nums)\n",
    "    nums0, output0 = nums['input']['nums'], nums['output']\n",
    "    print('numbers:', nums0)\n",
    "    print('output:', output0)\n",
    "\n",
    "    result0 = bubble_sort(nums0)\n",
    "    print('result:', result0)\n",
    "    if result0 == output0:\n",
    "        print('True')\n",
    "    else:\n",
    "        print('False')\n",
    "    "
   ]
  },
  {
   "cell_type": "code",
   "execution_count": 13,
   "metadata": {},
   "outputs": [
    {
     "data": {
      "application/javascript": "if (window.IPython && IPython.notebook.kernel) IPython.notebook.kernel.execute('jovian.utils.jupyter.get_notebook_name_saved = lambda: \"' + IPython.notebook.notebook_name + '\"')",
      "text/plain": [
       "<IPython.core.display.Javascript object>"
      ]
     },
     "metadata": {},
     "output_type": "display_data"
    }
   ],
   "source": [
    "from jovian.pythondsa import evaluate_test_cases\n"
   ]
  },
  {
   "cell_type": "code",
   "execution_count": 14,
   "metadata": {},
   "outputs": [
    {
     "name": "stdout",
     "output_type": "stream",
     "text": [
      "\n",
      "\u001b[1mTEST CASE #0\u001b[0m\n",
      "\n",
      "Input:\n",
      "{'nums': [3, 4, 2, 8, 7, 1, 9]}\n",
      "\n",
      "Expected Output:\n",
      "[1, 2, 3, 4, 7, 8, 9]\n",
      "\n",
      "\n",
      "Actual Output:\n",
      "[1, 2, 3, 4, 7, 8, 9]\n",
      "\n",
      "Execution Time:\n",
      "0.031 ms\n",
      "\n",
      "Test Result:\n",
      "\u001b[92mPASSED\u001b[0m\n",
      "\n",
      "\n",
      "\u001b[1mTEST CASE #1\u001b[0m\n",
      "\n",
      "Input:\n",
      "{'nums': [3, 7, 8, 15, 19, 24]}\n",
      "\n",
      "Expected Output:\n",
      "[3, 7, 8, 15, 19, 24]\n",
      "\n",
      "\n",
      "Actual Output:\n",
      "[3, 7, 8, 15, 19, 24]\n",
      "\n",
      "Execution Time:\n",
      "0.021 ms\n",
      "\n",
      "Test Result:\n",
      "\u001b[92mPASSED\u001b[0m\n",
      "\n",
      "\n",
      "\u001b[1mTEST CASE #2\u001b[0m\n",
      "\n",
      "Input:\n",
      "{'nums': [99, 88, 77, 66, 55, 44]}\n",
      "\n",
      "Expected Output:\n",
      "[44, 55, 66, 77, 88, 99]\n",
      "\n",
      "\n",
      "Actual Output:\n",
      "[44, 55, 66, 77, 88, 99]\n",
      "\n",
      "Execution Time:\n",
      "0.028 ms\n",
      "\n",
      "Test Result:\n",
      "\u001b[92mPASSED\u001b[0m\n",
      "\n",
      "\n",
      "\u001b[1mTEST CASE #3\u001b[0m\n",
      "\n",
      "Input:\n",
      "{'nums': [22, 55, 33, 22, 33]}\n",
      "\n",
      "Expected Output:\n",
      "[22, 22, 33, 33, 55]\n",
      "\n",
      "\n",
      "Actual Output:\n",
      "[22, 22, 33, 33, 55]\n",
      "\n",
      "Execution Time:\n",
      "0.02 ms\n",
      "\n",
      "Test Result:\n",
      "\u001b[92mPASSED\u001b[0m\n",
      "\n",
      "\n",
      "\u001b[1mTEST CASE #4\u001b[0m\n",
      "\n",
      "Input:\n",
      "{'nums': [1, 1, 1, 1, 1, 1]}\n",
      "\n",
      "Expected Output:\n",
      "[1, 1, 1, 1, 1, 1]\n",
      "\n",
      "\n",
      "Actual Output:\n",
      "[1, 1, 1, 1, 1, 1]\n",
      "\n",
      "Execution Time:\n",
      "0.019 ms\n",
      "\n",
      "Test Result:\n",
      "\u001b[92mPASSED\u001b[0m\n",
      "\n",
      "\n",
      "\u001b[1mTEST CASE #5\u001b[0m\n",
      "\n",
      "Input:\n",
      "{'nums': []}\n",
      "\n",
      "Expected Output:\n",
      "[]\n",
      "\n",
      "\n",
      "Actual Output:\n",
      "[]\n",
      "\n",
      "Execution Time:\n",
      "0.007 ms\n",
      "\n",
      "Test Result:\n",
      "\u001b[92mPASSED\u001b[0m\n",
      "\n",
      "\n",
      "\u001b[1mTEST CASE #6\u001b[0m\n",
      "\n",
      "Input:\n",
      "{'nums': [23]}\n",
      "\n",
      "Expected Output:\n",
      "[23]\n",
      "\n",
      "\n",
      "Actual Output:\n",
      "[23]\n",
      "\n",
      "Execution Time:\n",
      "0.006 ms\n",
      "\n",
      "Test Result:\n",
      "\u001b[92mPASSED\u001b[0m\n",
      "\n",
      "\n",
      "\u001b[1mSUMMARY\u001b[0m\n",
      "\n",
      "TOTAL: 7, \u001b[92mPASSED\u001b[0m: 7, \u001b[91mFAILED\u001b[0m: 0\n"
     ]
    },
    {
     "data": {
      "text/plain": [
       "[([1, 2, 3, 4, 7, 8, 9], True, 0.031),\n",
       " ([3, 7, 8, 15, 19, 24], True, 0.021),\n",
       " ([44, 55, 66, 77, 88, 99], True, 0.028),\n",
       " ([22, 22, 33, 33, 55], True, 0.02),\n",
       " ([1, 1, 1, 1, 1, 1], True, 0.019),\n",
       " ([], True, 0.007),\n",
       " ([23], True, 0.006)]"
      ]
     },
     "execution_count": 14,
     "metadata": {},
     "output_type": "execute_result"
    }
   ],
   "source": [
    "evaluate_test_cases(bubble_sort, tests)"
   ]
  },
  {
   "cell_type": "markdown",
   "metadata": {},
   "source": [
    "insertion sort algorithm"
   ]
  },
  {
   "cell_type": "code",
   "execution_count": 15,
   "metadata": {},
   "outputs": [],
   "source": [
    "def insertion_sort(nums):\n",
    "    nums = list(nums)\n",
    "    for i in range(len(nums)):\n",
    "        cur = nums.pop(i)\n",
    "        j=i-1\n",
    "        while j >=0 and nums[j] > cur:\n",
    "            j=j-1\n",
    "        nums.insert(j+1, cur)\n",
    "    return nums"
   ]
  },
  {
   "cell_type": "code",
   "execution_count": 16,
   "metadata": {},
   "outputs": [
    {
     "name": "stdout",
     "output_type": "stream",
     "text": [
      "nums: [3, 4, 2, 8, 7, 1, 9]\n",
      "output: [1, 2, 3, 4, 7, 8, 9]\n",
      "result: [1, 2, 3, 4, 7, 8, 9]\n",
      "True\n",
      "nums: [3, 7, 8, 15, 19, 24]\n",
      "output: [3, 7, 8, 15, 19, 24]\n",
      "result: [3, 7, 8, 15, 19, 24]\n",
      "True\n",
      "nums: [99, 88, 77, 66, 55, 44]\n",
      "output: [44, 55, 66, 77, 88, 99]\n",
      "result: [44, 55, 66, 77, 88, 99]\n",
      "True\n",
      "nums: [22, 55, 33, 22, 33]\n",
      "output: [22, 22, 33, 33, 55]\n",
      "result: [22, 22, 33, 33, 55]\n",
      "True\n",
      "nums: [1, 1, 1, 1, 1, 1]\n",
      "output: [1, 1, 1, 1, 1, 1]\n",
      "result: [1, 1, 1, 1, 1, 1]\n",
      "True\n",
      "nums: []\n",
      "output: []\n",
      "result: []\n",
      "True\n",
      "nums: [23]\n",
      "output: [23]\n",
      "result: [23]\n",
      "True\n"
     ]
    }
   ],
   "source": [
    "for test in tests:\n",
    "    nums, output = test['input']['nums'], test['output']\n",
    "\n",
    "    print('nums:', nums)\n",
    "    print('output:', output)\n",
    "\n",
    "    result = insertion_sort(nums)\n",
    "    print('result:',result)\n",
    "    if result == output:\n",
    "        print('True')\n",
    "    elif result != output:\n",
    "        print('False')"
   ]
  },
  {
   "cell_type": "markdown",
   "metadata": {},
   "source": [
    "merge sort ( Divide and conquer)"
   ]
  },
  {
   "cell_type": "code",
   "execution_count": 17,
   "metadata": {},
   "outputs": [],
   "source": [
    "def merge_sort(nums):\n",
    "    #Terminating condition (list of 0 or 1 elements)\n",
    "    if len(nums) <= 1 :\n",
    "        return nums\n",
    "\n",
    "    #Get the midpoint\n",
    "    mid = len(nums) // 2\n",
    "    #Split the list into two halves\n",
    "    left = nums[:mid]\n",
    "    right = nums[mid:]\n",
    "    #Solve the problem for each half recursively\n",
    "    left_sorted, right_sorted = merge_sort(left), merge_sort(right)\n",
    "    sorted_nums = merge(left_sorted, right_sorted)\n",
    "    # Combine the results of the two halves\n",
    "    return sorted_nums\n",
    "    \n"
   ]
  },
  {
   "cell_type": "code",
   "execution_count": 18,
   "metadata": {},
   "outputs": [],
   "source": [
    "def merge(left, right):\n",
    "        merged = []\n",
    "        # indices for iteration\n",
    "        i, j = 0,0\n",
    "        #loop over the two lists\n",
    "        while i < len(left) and j < len(right):\n",
    "\n",
    "            #include the smaller element in the result and move to next elemnt\n",
    "            if left[i] <= right[j]:\n",
    "                merged.append(left[i])\n",
    "                i = i + 1\n",
    "            else:\n",
    "                merged.append(right[j])\n",
    "                j+=1\n",
    "\n",
    "        #Get the remaining parts\n",
    "        remaining_left = left[i:]\n",
    "        remaining_right = right[j:]\n",
    "        return merged + remaining_left + remaining_right# left, right = sorted_nums\n"
   ]
  },
  {
   "cell_type": "code",
   "execution_count": 19,
   "metadata": {},
   "outputs": [
    {
     "name": "stdout",
     "output_type": "stream",
     "text": [
      "nums: [3, 4, 2, 8, 7, 1, 9]\n",
      "output: [1, 2, 3, 4, 7, 8, 9]\n",
      "result: [1, 2, 3, 4, 7, 8, 9]\n",
      "True\n",
      "nums: [3, 7, 8, 15, 19, 24]\n",
      "output: [3, 7, 8, 15, 19, 24]\n",
      "result: [3, 7, 8, 15, 19, 24]\n",
      "True\n",
      "nums: [99, 88, 77, 66, 55, 44]\n",
      "output: [44, 55, 66, 77, 88, 99]\n",
      "result: [44, 55, 66, 77, 88, 99]\n",
      "True\n",
      "nums: [22, 55, 33, 22, 33]\n",
      "output: [22, 22, 33, 33, 55]\n",
      "result: [22, 22, 33, 33, 55]\n",
      "True\n",
      "nums: [1, 1, 1, 1, 1, 1]\n",
      "output: [1, 1, 1, 1, 1, 1]\n",
      "result: [1, 1, 1, 1, 1, 1]\n",
      "True\n",
      "nums: []\n",
      "output: []\n",
      "result: []\n",
      "True\n",
      "nums: [23]\n",
      "output: [23]\n",
      "result: [23]\n",
      "True\n"
     ]
    }
   ],
   "source": [
    "for test in tests:\n",
    "    nums, output = test['input']['nums'], test['output']\n",
    "\n",
    "    print('nums:', nums)\n",
    "    print('output:', output)\n",
    "\n",
    "    result = merge_sort(nums)\n",
    "    print('result:',result)\n",
    "    if result == output:\n",
    "        print('True')\n",
    "    elif result != output:\n",
    "        print('False')"
   ]
  },
  {
   "attachments": {},
   "cell_type": "markdown",
   "metadata": {},
   "source": [
    "quick sort algorithm"
   ]
  },
  {
   "cell_type": "code",
   "execution_count": 20,
   "metadata": {},
   "outputs": [],
   "source": [
    "def quicksort(nums, start=0, end=None):\n",
    "    print('quicksort', nums, start,end)\n",
    "    if end is None:\n",
    "        nums = list(nums)\n",
    "        end = len(nums) - 1\n",
    "\n",
    "    if start < end:\n",
    "        pivot = partition(nums, start,end)\n",
    "        print('pivot:', pivot)\n",
    "        quicksort(nums, start, pivot-1)\n",
    "        quicksort(nums,pivot+1, end)\n",
    "    return nums\n"
   ]
  },
  {
   "cell_type": "code",
   "execution_count": 21,
   "metadata": {},
   "outputs": [],
   "source": [
    "def partition(nums,start=0, end=None):\n",
    "    if end is None:\n",
    "        end = len(nums)-1\n",
    "\n",
    "    #initialize right and left pointers\n",
    "    l,r = start, end-1\n",
    "    #iterate while they're apart\n",
    "    while r >l:\n",
    "        # increment left pointer if number is lessthan or equal to pivot\n",
    "        if nums[l] <= nums[end]:\n",
    "            l+= 1\n",
    "            # decrement right pointer if number is greaterthan or equal to pivot\n",
    "        elif nums[r] > nums[end]:\n",
    "            r-=1\n",
    "            # swap them\n",
    "        else:\n",
    "            nums[l], nums[r] = nums[r], nums[l]\n",
    "\n",
    "            #place pivot in between the two parts\n",
    "    if nums[l]>nums[end]:\n",
    "        nums[l], nums[end] = nums[end], nums[l]\n",
    "        print('numsl, numsend:', nums[l], nums[end])\n",
    "        return l\n",
    "    else:\n",
    "        return end\n",
    "\n"
   ]
  },
  {
   "cell_type": "code",
   "execution_count": 22,
   "metadata": {},
   "outputs": [
    {
     "name": "stdout",
     "output_type": "stream",
     "text": [
      "numsl, numsend: 0 1\n",
      "0 [0, 2, 3, 4, 5, 7, 1]\n"
     ]
    }
   ],
   "source": [
    "l  = [1,2,3,4,5,7,0]\n",
    "pivot= partition(l)\n",
    "print(pivot, l)"
   ]
  },
  {
   "cell_type": "code",
   "execution_count": 23,
   "metadata": {},
   "outputs": [
    {
     "name": "stdout",
     "output_type": "stream",
     "text": [
      "nums: [23]\n",
      "output: [23]\n",
      "quicksort [23] 0 None\n",
      "result: [23]\n",
      "True\n"
     ]
    }
   ],
   "source": [
    "\n",
    "nums, output = test['input']['nums'], test['output']\n",
    "\n",
    "print('nums:', nums)\n",
    "print('output:', output)\n",
    "\n",
    "result = quicksort(nums)\n",
    "print('result:',result)\n",
    "if result == output:\n",
    "    print('True')\n",
    "elif result != output:\n",
    "    print('False')"
   ]
  },
  {
   "cell_type": "code",
   "execution_count": 24,
   "metadata": {},
   "outputs": [],
   "source": [
    "from jovian.pythondsa import evaluate_test_case"
   ]
  },
  {
   "cell_type": "code",
   "execution_count": 25,
   "metadata": {},
   "outputs": [
    {
     "name": "stdout",
     "output_type": "stream",
     "text": [
      "\n",
      "Input:\n",
      "{'nums': [23]}\n",
      "\n",
      "Expected Output:\n",
      "[23]\n",
      "\n",
      "quicksort [23] 0 None\n",
      "\n",
      "Actual Output:\n",
      "[23]\n",
      "\n",
      "Execution Time:\n",
      "0.057 ms\n",
      "\n",
      "Test Result:\n",
      "\u001b[92mPASSED\u001b[0m\n",
      "\n"
     ]
    },
    {
     "data": {
      "text/plain": [
       "([23], True, 0.057)"
      ]
     },
     "execution_count": 25,
     "metadata": {},
     "output_type": "execute_result"
    }
   ],
   "source": [
    "evaluate_test_case(quicksort, test)"
   ]
  },
  {
   "attachments": {},
   "cell_type": "markdown",
   "metadata": {},
   "source": []
  },
  {
   "cell_type": "code",
   "execution_count": 26,
   "metadata": {
    "tags": []
   },
   "outputs": [],
   "source": []
  },
  {
   "cell_type": "code",
   "execution_count": 27,
   "metadata": {},
   "outputs": [],
   "source": []
  },
  {
   "cell_type": "code",
   "execution_count": 28,
   "metadata": {},
   "outputs": [],
   "source": []
  },
  {
   "cell_type": "code",
   "execution_count": null,
   "metadata": {},
   "outputs": [],
   "source": []
  }
 ],
 "metadata": {
  "kernelspec": {
   "display_name": "Python 3.10.5 64-bit",
   "language": "python",
   "name": "python3"
  },
  "language_info": {
   "codemirror_mode": {
    "name": "ipython",
    "version": 3
   },
   "file_extension": ".py",
   "mimetype": "text/x-python",
   "name": "python",
   "nbconvert_exporter": "python",
   "pygments_lexer": "ipython3",
   "version": "3.10.5"
  },
  "orig_nbformat": 4,
  "vscode": {
   "interpreter": {
    "hash": "3e07f9f0a1b5eb909177a9683b10ec61cfb464e1c382e9e3067578d992118575"
   }
  }
 },
 "nbformat": 4,
 "nbformat_minor": 2
}
