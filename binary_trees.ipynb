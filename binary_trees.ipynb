{
 "cells": [
  {
   "cell_type": "markdown",
   "metadata": {},
   "source": [
    "As a backend engineer, create a 100 million user interface where one can:\n",
    "1 insert the profile info for anew user\n",
    "2 find profile info\n",
    "3 update profile info\n",
    "4 list all users"
   ]
  },
  {
   "cell_type": "code",
   "execution_count": 356,
   "metadata": {},
   "outputs": [],
   "source": [
    "class User:\n",
    "    def __init__(self, username, name, email):\n",
    "        self.username = username\n",
    "        self.name = name\n",
    "        self.email = email\n",
    "        print('User created')"
   ]
  },
  {
   "cell_type": "code",
   "execution_count": 357,
   "metadata": {},
   "outputs": [
    {
     "name": "stdout",
     "output_type": "stream",
     "text": [
      "User created\n"
     ]
    }
   ],
   "source": [
    "user1 = User('austinobravo', 'austine', 'austinobarvo@gmail.com')"
   ]
  },
  {
   "cell_type": "code",
   "execution_count": 358,
   "metadata": {},
   "outputs": [
    {
     "name": "stdout",
     "output_type": "stream",
     "text": [
      "austinobravo\n"
     ]
    }
   ],
   "source": [
    "print(user1.username)"
   ]
  },
  {
   "cell_type": "code",
   "execution_count": 359,
   "metadata": {},
   "outputs": [],
   "source": [
    "class User:\n",
    "    def __init__(self, username, name, email):\n",
    "        self.username = username\n",
    "        self.name = name\n",
    "        self.email = email\n",
    "\n",
    "    def introduce_yourself( self, guest_name):\n",
    "        print(f\"Hi {guest_name}, i'm {self.name}: Contact me at {self.email}\")\n",
    "        print(\"Hi, {}, i'm {}: contact me at {}.\".format(guest_name,self.name, self.email))"
   ]
  },
  {
   "cell_type": "code",
   "execution_count": 360,
   "metadata": {},
   "outputs": [],
   "source": [
    "user2  = User('austine', 'Aust', 'au@gmail.com')"
   ]
  },
  {
   "cell_type": "code",
   "execution_count": 361,
   "metadata": {},
   "outputs": [
    {
     "name": "stdout",
     "output_type": "stream",
     "text": [
      "Hi Dave, i'm Aust: Contact me at au@gmail.com\n",
      "Hi, Dave, i'm Aust: contact me at au@gmail.com.\n",
      "Hi David, i'm Aust: Contact me at au@gmail.com\n",
      "Hi, David, i'm Aust: contact me at au@gmail.com.\n"
     ]
    }
   ],
   "source": [
    "user2.introduce_yourself('Dave')\n",
    "User.introduce_yourself(user2, 'David')"
   ]
  },
  {
   "cell_type": "code",
   "execution_count": 362,
   "metadata": {},
   "outputs": [],
   "source": [
    "class User:\n",
    "    def __init__(self, username, name, email):\n",
    "        self.username = username\n",
    "        self.name = name\n",
    "        self.email = email\n",
    "\n",
    "    def __repr__(self):\n",
    "        return f\" User = username({self.username}), name({self.name}), email({self.email})\"\n",
    "\n",
    "    # def __str__(self):\n",
    "    #     return self.__repr__()"
   ]
  },
  {
   "cell_type": "code",
   "execution_count": 363,
   "metadata": {},
   "outputs": [],
   "source": [
    "user3 = User('jane', 'Jane', 'jane@g.c')"
   ]
  },
  {
   "cell_type": "code",
   "execution_count": 364,
   "metadata": {},
   "outputs": [
    {
     "data": {
      "text/plain": [
       " User = username(jane), name(Jane), email(jane@g.c)"
      ]
     },
     "execution_count": 364,
     "metadata": {},
     "output_type": "execute_result"
    }
   ],
   "source": [
    "user3"
   ]
  },
  {
   "cell_type": "code",
   "execution_count": 365,
   "metadata": {},
   "outputs": [],
   "source": [
    "user1 = User('user1', 'User1', 'user1@gmail.com')\n",
    "user2 = User('user2', 'User2', 'user2@gmail.com')\n",
    "user3 = User('user3', 'User3', 'user3@gmail.com')\n",
    "user4 = User('user4', 'User4', 'user4@gmail.com')\n",
    "user5 = User('user5', 'User5', 'user5@gmail.com')\n",
    "user6 = User('user6', 'User6', 'user6@gmail.com')"
   ]
  },
  {
   "cell_type": "code",
   "execution_count": 366,
   "metadata": {},
   "outputs": [],
   "source": [
    "users = (user1, user2, user3, user4, user5,user6)"
   ]
  },
  {
   "cell_type": "code",
   "execution_count": 367,
   "metadata": {},
   "outputs": [
    {
     "data": {
      "text/plain": [
       "( User = username(user1), name(User1), email(user1@gmail.com),\n",
       "  User = username(user2), name(User2), email(user2@gmail.com),\n",
       "  User = username(user3), name(User3), email(user3@gmail.com),\n",
       "  User = username(user4), name(User4), email(user4@gmail.com),\n",
       "  User = username(user5), name(User5), email(user5@gmail.com),\n",
       "  User = username(user6), name(User6), email(user6@gmail.com))"
      ]
     },
     "execution_count": 367,
     "metadata": {},
     "output_type": "execute_result"
    }
   ],
   "source": [
    "users"
   ]
  },
  {
   "cell_type": "code",
   "execution_count": 368,
   "metadata": {},
   "outputs": [
    {
     "data": {
      "text/plain": [
       " User = username(user1), name(User1), email(user1@gmail.com)"
      ]
     },
     "execution_count": 368,
     "metadata": {},
     "output_type": "execute_result"
    }
   ],
   "source": [
    "user1"
   ]
  },
  {
   "cell_type": "markdown",
   "metadata": {},
   "source": [
    "insert :\n",
    "try to insert new usernames\n",
    "insert existing usernames\n",
    "inserting into new db\n",
    "\n",
    "find:\n",
    "find by username\n",
    "find by email\n",
    "find by name\n",
    "update:\n",
    "update existing info\n",
    "try to update non existing info\n",
    "\n",
    "list:\n",
    "list by name\n",
    "list by email\n",
    "list by username\n",
    "list if not existing"
   ]
  },
  {
   "cell_type": "code",
   "execution_count": 369,
   "metadata": {},
   "outputs": [
    {
     "data": {
      "text/plain": [
       "True"
      ]
     },
     "execution_count": 369,
     "metadata": {},
     "output_type": "execute_result"
    }
   ],
   "source": [
    "'user1' < 'user2'"
   ]
  },
  {
   "cell_type": "code",
   "execution_count": 370,
   "metadata": {},
   "outputs": [],
   "source": [
    "class UserDatabase:\n",
    "    def __init__(self):\n",
    "        self.users = []\n",
    "\n",
    "    def insert(self, user):\n",
    "        i = 0\n",
    "        while i < len(self.users):\n",
    "            if self.users[i].username > user.username:\n",
    "                break\n",
    "            i +=1\n",
    "        self.users.insert(i, user)\n",
    "\n",
    "    def find (self, username):\n",
    "        for user in self.users:\n",
    "            if user.username == username:\n",
    "                return user\n",
    "            \n",
    "    def update(self, user):\n",
    "        # for user in user:\n",
    "        #     if self.user == user:\n",
    "        #         return user\n",
    "\n",
    "        SingleUserUpdate = self.find(user.username)\n",
    "        SingleUserUpdate.name , SingleUserUpdate.email = user.name, user.email \n",
    "\n",
    "    def list_all(self):\n",
    "        return self.users\n"
   ]
  },
  {
   "cell_type": "code",
   "execution_count": 371,
   "metadata": {},
   "outputs": [],
   "source": [
    "usersdb = UserDatabase()\n"
   ]
  },
  {
   "cell_type": "code",
   "execution_count": 372,
   "metadata": {},
   "outputs": [],
   "source": [
    "usersdb.insert(user1)\n",
    "usersdb.insert(user2)\n",
    "usersdb.insert(user3)"
   ]
  },
  {
   "cell_type": "code",
   "execution_count": 373,
   "metadata": {},
   "outputs": [
    {
     "data": {
      "text/plain": [
       " User = username(user1), name(User1), email(user1@gmail.com)"
      ]
     },
     "execution_count": 373,
     "metadata": {},
     "output_type": "execute_result"
    }
   ],
   "source": [
    "user = usersdb.find('user1')\n",
    "user"
   ]
  },
  {
   "cell_type": "code",
   "execution_count": 374,
   "metadata": {},
   "outputs": [],
   "source": [
    "usersdb.update(User(username='user1', name='User1 1', email='us1@g.c'))"
   ]
  },
  {
   "cell_type": "code",
   "execution_count": 375,
   "metadata": {},
   "outputs": [
    {
     "data": {
      "text/plain": [
       "(None,)"
      ]
     },
     "execution_count": 375,
     "metadata": {},
     "output_type": "execute_result"
    }
   ],
   "source": [
    "user1 =usersdb.find('user6')\n",
    "user1,\n"
   ]
  },
  {
   "cell_type": "code",
   "execution_count": 376,
   "metadata": {},
   "outputs": [
    {
     "data": {
      "text/plain": [
       "[ User = username(user1), name(User1 1), email(us1@g.c),\n",
       "  User = username(user2), name(User2), email(user2@gmail.com),\n",
       "  User = username(user3), name(User3), email(user3@gmail.com)]"
      ]
     },
     "execution_count": 376,
     "metadata": {},
     "output_type": "execute_result"
    }
   ],
   "source": [
    "usersdb.list_all()"
   ]
  },
  {
   "cell_type": "code",
   "execution_count": 377,
   "metadata": {},
   "outputs": [],
   "source": [
    "usersdb.insert(user5)"
   ]
  },
  {
   "cell_type": "code",
   "execution_count": 378,
   "metadata": {},
   "outputs": [
    {
     "data": {
      "text/plain": [
       "[ User = username(user1), name(User1 1), email(us1@g.c),\n",
       "  User = username(user2), name(User2), email(user2@gmail.com),\n",
       "  User = username(user3), name(User3), email(user3@gmail.com),\n",
       "  User = username(user5), name(User5), email(user5@gmail.com)]"
      ]
     },
     "execution_count": 378,
     "metadata": {},
     "output_type": "execute_result"
    }
   ],
   "source": [
    "usersdb.list_all()"
   ]
  },
  {
   "cell_type": "markdown",
   "metadata": {},
   "source": [
    "BINARY TREES"
   ]
  },
  {
   "cell_type": "code",
   "execution_count": 379,
   "metadata": {},
   "outputs": [],
   "source": [
    "class TreeNode:\n",
    "    def __init__(self, key):\n",
    "        self.key = key\n",
    "        self.left = None\n",
    "        self.right = None"
   ]
  },
  {
   "cell_type": "code",
   "execution_count": 380,
   "metadata": {},
   "outputs": [],
   "source": [
    "node0 = TreeNode(3)\n",
    "node1 = TreeNode(4)\n",
    "node2 = TreeNode(5)"
   ]
  },
  {
   "cell_type": "code",
   "execution_count": 381,
   "metadata": {},
   "outputs": [],
   "source": [
    "node0.left = node1\n",
    "node0.right= node2"
   ]
  },
  {
   "cell_type": "code",
   "execution_count": 382,
   "metadata": {},
   "outputs": [
    {
     "data": {
      "text/plain": [
       "(3, 5)"
      ]
     },
     "execution_count": 382,
     "metadata": {},
     "output_type": "execute_result"
    }
   ],
   "source": [
    "node0.key, node0.right.key"
   ]
  },
  {
   "cell_type": "code",
   "execution_count": 383,
   "metadata": {},
   "outputs": [],
   "source": [
    "tree_tuple = ((1,3, None),2,((None,3,4),5,(6,7,8)))"
   ]
  },
  {
   "cell_type": "code",
   "execution_count": 398,
   "metadata": {},
   "outputs": [],
   "source": [
    "def parse_tuple(data):\n",
    "    print(data)\n",
    "    # print(node)\n",
    "    if isinstance(data, tuple) and len(data) == 3:\n",
    "        node = TreeNode(data[1])\n",
    "        node.left = parse_tuple(data[0])\n",
    "        node.right = parse_tuple(data[2])\n",
    "    elif data is None:\n",
    "        node = None\n",
    "    else:\n",
    "        node = TreeNode(data)\n",
    "    return node"
   ]
  },
  {
   "cell_type": "code",
   "execution_count": 399,
   "metadata": {},
   "outputs": [
    {
     "name": "stdout",
     "output_type": "stream",
     "text": [
      "((1, 3, None), 2, ((None, 3, 4), 5, (6, 7, 8)))\n",
      "(1, 3, None)\n",
      "1\n",
      "None\n",
      "((None, 3, 4), 5, (6, 7, 8))\n",
      "(None, 3, 4)\n",
      "None\n",
      "4\n",
      "(6, 7, 8)\n",
      "6\n",
      "8\n"
     ]
    }
   ],
   "source": [
    "tree = parse_tuple(((1,3, None),2,((None,3,4),5,(6,7,8))))"
   ]
  },
  {
   "cell_type": "code",
   "execution_count": 386,
   "metadata": {},
   "outputs": [
    {
     "data": {
      "text/plain": [
       "2"
      ]
     },
     "execution_count": 386,
     "metadata": {},
     "output_type": "execute_result"
    }
   ],
   "source": [
    "tree.key"
   ]
  },
  {
   "cell_type": "code",
   "execution_count": 400,
   "metadata": {},
   "outputs": [],
   "source": [
    "tree.right.left.left\n"
   ]
  },
  {
   "cell_type": "code",
   "execution_count": 401,
   "metadata": {},
   "outputs": [],
   "source": [
    "def traverse_inorder(node):\n",
    "    if node is None:\n",
    "        return []\n",
    "    return (traverse_inorder(node.left) + [node.key] + traverse_inorder(node.right))"
   ]
  },
  {
   "cell_type": "code",
   "execution_count": 402,
   "metadata": {},
   "outputs": [
    {
     "data": {
      "text/plain": [
       "[1, 3, 2, 3, 4, 5, 6, 7, 8]"
      ]
     },
     "execution_count": 402,
     "metadata": {},
     "output_type": "execute_result"
    }
   ],
   "source": [
    "traverse_inorder(tree)"
   ]
  },
  {
   "cell_type": "code",
   "execution_count": 411,
   "metadata": {},
   "outputs": [],
   "source": [
    "def traverse_preorder(node):\n",
    "    if node is None:\n",
    "        return []\n",
    "    return ([node.key]+ traverse_preorder(node.left)  + traverse_preorder(node.right))"
   ]
  },
  {
   "cell_type": "code",
   "execution_count": 412,
   "metadata": {},
   "outputs": [
    {
     "data": {
      "text/plain": [
       "[2, 3, 1, 5, 3, 4, 7, 6, 8]"
      ]
     },
     "execution_count": 412,
     "metadata": {},
     "output_type": "execute_result"
    }
   ],
   "source": [
    "traverse_preorder(tree)\n"
   ]
  },
  {
   "cell_type": "code",
   "execution_count": 413,
   "metadata": {},
   "outputs": [],
   "source": [
    "def traverse_postorder(node):\n",
    "    if node is None:\n",
    "        return []\n",
    "    return (traverse_postorder(node.left)  + traverse_postorder(node.right) +[node.key])"
   ]
  },
  {
   "cell_type": "code",
   "execution_count": 414,
   "metadata": {},
   "outputs": [
    {
     "data": {
      "text/plain": [
       "[1, 3, 4, 3, 6, 8, 7, 5, 2]"
      ]
     },
     "execution_count": 414,
     "metadata": {},
     "output_type": "execute_result"
    }
   ],
   "source": [
    "traverse_postorder(tree)\n"
   ]
  },
  {
   "cell_type": "code",
   "execution_count": 416,
   "metadata": {},
   "outputs": [],
   "source": [
    "class BSTNode():\n",
    "    def __init__(self, key, value=None):\n",
    "        self.key = key\n",
    "        self.value = value\n",
    "        self.left = None\n",
    "        self.right = None\n",
    "        self.parent = None"
   ]
  },
  {
   "cell_type": "code",
   "execution_count": null,
   "metadata": {},
   "outputs": [],
   "source": []
  },
  {
   "cell_type": "code",
   "execution_count": null,
   "metadata": {},
   "outputs": [],
   "source": []
  },
  {
   "cell_type": "code",
   "execution_count": null,
   "metadata": {},
   "outputs": [],
   "source": [
    "class TreeNodeEg:\n",
    "    def __init__(self, key):\n",
    "        self.key = key\n",
    "        self.left = None\n",
    "        self.right = None\n",
    "        self.right.leftchild = None\n",
    "        self.right.rightchild = None\n",
    "        self.right.leftchild.rightchild = None\n",
    "        self.right.rightchild.leftchild = None\n",
    "        self.right.rightchild.rightchild = None\n",
    "\n",
    "    def __repr__(self, left):\n",
    "        self.left.leftchild = None\n",
    "\n",
    "\n",
    "\n",
    "\n"
   ]
  },
  {
   "cell_type": "code",
   "execution_count": null,
   "metadata": {},
   "outputs": [
    {
     "ename": "AttributeError",
     "evalue": "'NoneType' object has no attribute 'leftchild'",
     "output_type": "error",
     "traceback": [
      "\u001b[1;31m---------------------------------------------------------------------------\u001b[0m",
      "\u001b[1;31mAttributeError\u001b[0m                            Traceback (most recent call last)",
      "Cell \u001b[1;32mIn[286], line 1\u001b[0m\n\u001b[1;32m----> 1\u001b[0m Tree \u001b[38;5;241m=\u001b[39m \u001b[43mTreeNodeEg\u001b[49m\u001b[43m(\u001b[49m\u001b[38;5;241;43m2\u001b[39;49m\u001b[43m)\u001b[49m\n\u001b[0;32m      2\u001b[0m node1 \u001b[38;5;241m=\u001b[39mTreeNodeEg(\u001b[38;5;241m3\u001b[39m)\n\u001b[0;32m      3\u001b[0m node2 \u001b[38;5;241m=\u001b[39mTreeNodeEg\u001b[38;5;241m.\u001b[39m\u001b[38;5;21m__repr__\u001b[39m(\u001b[38;5;241m5\u001b[39m)\n",
      "Cell \u001b[1;32mIn[285], line 6\u001b[0m, in \u001b[0;36mTreeNodeEg.__init__\u001b[1;34m(self, key)\u001b[0m\n\u001b[0;32m      4\u001b[0m \u001b[38;5;28mself\u001b[39m\u001b[38;5;241m.\u001b[39mleft \u001b[38;5;241m=\u001b[39m \u001b[38;5;28;01mNone\u001b[39;00m\n\u001b[0;32m      5\u001b[0m \u001b[38;5;28mself\u001b[39m\u001b[38;5;241m.\u001b[39mright \u001b[38;5;241m=\u001b[39m \u001b[38;5;28;01mNone\u001b[39;00m\n\u001b[1;32m----> 6\u001b[0m \u001b[38;5;28;43mself\u001b[39;49m\u001b[38;5;241;43m.\u001b[39;49m\u001b[43mright\u001b[49m\u001b[38;5;241;43m.\u001b[39;49m\u001b[43mleftchild\u001b[49m \u001b[38;5;241m=\u001b[39m \u001b[38;5;28;01mNone\u001b[39;00m\n\u001b[0;32m      7\u001b[0m \u001b[38;5;28mself\u001b[39m\u001b[38;5;241m.\u001b[39mright\u001b[38;5;241m.\u001b[39mrightchild \u001b[38;5;241m=\u001b[39m \u001b[38;5;28;01mNone\u001b[39;00m\n\u001b[0;32m      8\u001b[0m \u001b[38;5;28mself\u001b[39m\u001b[38;5;241m.\u001b[39mright\u001b[38;5;241m.\u001b[39mleftchild\u001b[38;5;241m.\u001b[39mrightchild \u001b[38;5;241m=\u001b[39m \u001b[38;5;28;01mNone\u001b[39;00m\n",
      "\u001b[1;31mAttributeError\u001b[0m: 'NoneType' object has no attribute 'leftchild'"
     ]
    }
   ],
   "source": [
    "Tree = TreeNodeEg(2)\n",
    "node1 =TreeNodeEg(3)\n",
    "node2 =TreeNodeEg.__repr__(5)\n",
    "node3 =TreeNodeEg(1)\n",
    "node4 =TreeNodeEg(3)\n",
    "node5 =TreeNodeEg(7)\n",
    "node6 =TreeNodeEg(4)\n",
    "node7 =TreeNodeEg(6)\n",
    "node8 =TreeNodeEg(8)\n",
    "\n",
    "\n",
    "\n",
    "\n",
    "\n",
    "\n"
   ]
  },
  {
   "cell_type": "code",
   "execution_count": null,
   "metadata": {},
   "outputs": [],
   "source": [
    "Tree.left = node1\n",
    "Tree.right = node2\n",
    "Tree.left.leftchild = node3"
   ]
  },
  {
   "cell_type": "code",
   "execution_count": null,
   "metadata": {},
   "outputs": [],
   "source": [
    "Tree.key, Tree.left.key, Tree.left.leftchild.key"
   ]
  }
 ],
 "metadata": {
  "kernelspec": {
   "display_name": "Python 3.10.5 64-bit",
   "language": "python",
   "name": "python3"
  },
  "language_info": {
   "codemirror_mode": {
    "name": "ipython",
    "version": 3
   },
   "file_extension": ".py",
   "mimetype": "text/x-python",
   "name": "python",
   "nbconvert_exporter": "python",
   "pygments_lexer": "ipython3",
   "version": "3.10.5"
  },
  "orig_nbformat": 4,
  "vscode": {
   "interpreter": {
    "hash": "3e07f9f0a1b5eb909177a9683b10ec61cfb464e1c382e9e3067578d992118575"
   }
  }
 },
 "nbformat": 4,
 "nbformat_minor": 2
}
