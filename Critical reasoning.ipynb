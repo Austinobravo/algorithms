{
 "cells": [
  {
   "attachments": {},
   "cell_type": "markdown",
   "metadata": {},
   "source": [
    "Get a function thatgets a sum of a  sub array , A part from an array"
   ]
  },
  {
   "cell_type": "code",
   "execution_count": 1,
   "metadata": {},
   "outputs": [],
   "source": [
    "# def sum_of_subarray(array, sum):\n",
    "#     pass"
   ]
  },
  {
   "cell_type": "code",
   "execution_count": 15,
   "metadata": {},
   "outputs": [
    {
     "data": {
      "text/plain": [
       "10"
      ]
     },
     "execution_count": 15,
     "metadata": {},
     "output_type": "execute_result"
    }
   ],
   "source": [
    "arr0 = [1, 7, 4, 2, 1, 3,11,5]\n",
    "sum0 = 10\n",
    "output = 2,6\n",
    "\n",
    "sum(arr0[2:6])\n"
   ]
  },
  {
   "cell_type": "code",
   "execution_count": 3,
   "metadata": {},
   "outputs": [
    {
     "data": {
      "text/plain": [
       "\"\\n1. where the subarray is inthecenter\\n2. WHERE THE SUBARRAY IS INTHE END\\n3. where the subarray is in the start\\n4. where the subarray doesn't add to the sum\\n5. empty array\\n6. array of single element\\n7.where multiple subarray adds to the number\\n\\n\""
      ]
     },
     "execution_count": 3,
     "metadata": {},
     "output_type": "execute_result"
    }
   ],
   "source": [
    "\n",
    "\n",
    "\"\"\"\n",
    "1. where the subarray is inthecenter\n",
    "2. WHERE THE SUBARRAY IS INTHE END\n",
    "3. where the subarray is in the start\n",
    "4. where the subarray doesn't add to the sum\n",
    "5. empty array\n",
    "6. array of single element\n",
    "7.where multiple subarray adds to the number\n",
    "\n",
    "\"\"\""
   ]
  },
  {
   "cell_type": "code",
   "execution_count": 13,
   "metadata": {},
   "outputs": [],
   "source": [
    "def sum_of_subarray1(array, sumtotal):\n",
    "    arr = len(array)\n",
    "    #Check for the range of the array\n",
    "    for i in range(0, arr):\n",
    "        #Check  for the range of the array + 1\n",
    "        for j in range(i, arr+1):\n",
    "            if sum(array[i:j]) == sumtotal:\n",
    "                return i,j\n",
    "\n",
    "    return None,None"
   ]
  },
  {
   "cell_type": "code",
   "execution_count": 17,
   "metadata": {},
   "outputs": [
    {
     "data": {
      "text/plain": [
       "29"
      ]
     },
     "execution_count": 17,
     "metadata": {},
     "output_type": "execute_result"
    }
   ],
   "source": [
    "sum(arr0[0:-1])"
   ]
  },
  {
   "cell_type": "code",
   "execution_count": 14,
   "metadata": {},
   "outputs": [
    {
     "data": {
      "text/plain": [
       "(2, 6)"
      ]
     },
     "execution_count": 14,
     "metadata": {},
     "output_type": "execute_result"
    }
   ],
   "source": [
    "sum_of_subarray1(arr0, sum0)"
   ]
  },
  {
   "cell_type": "code",
   "execution_count": null,
   "metadata": {},
   "outputs": [],
   "source": []
  },
  {
   "cell_type": "code",
   "execution_count": 19,
   "metadata": {},
   "outputs": [
    {
     "data": {
      "text/plain": [
       "11"
      ]
     },
     "execution_count": 19,
     "metadata": {},
     "output_type": "execute_result"
    }
   ],
   "source": [
    "max(arr0)"
   ]
  }
 ],
 "metadata": {
  "kernelspec": {
   "display_name": "Python 3",
   "language": "python",
   "name": "python3"
  },
  "language_info": {
   "codemirror_mode": {
    "name": "ipython",
    "version": 3
   },
   "file_extension": ".py",
   "mimetype": "text/x-python",
   "name": "python",
   "nbconvert_exporter": "python",
   "pygments_lexer": "ipython3",
   "version": "3.10.5"
  },
  "orig_nbformat": 4
 },
 "nbformat": 4,
 "nbformat_minor": 2
}
