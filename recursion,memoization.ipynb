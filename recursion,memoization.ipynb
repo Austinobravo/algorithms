{
 "cells": [
  {
   "attachments": {},
   "cell_type": "markdown",
   "metadata": {},
   "source": [
    " generate a function to find the longest subsequence ( two that appear in identical form in a word)between two words"
   ]
  },
  {
   "cell_type": "code",
   "execution_count": 150,
   "metadata": {},
   "outputs": [],
   "source": [
    "def len_of_subsequences(sub1, sub2):\n",
    "    pass"
   ]
  },
  {
   "cell_type": "code",
   "execution_count": 151,
   "metadata": {},
   "outputs": [],
   "source": [
    "#test of only alphabets\n",
    "test0 = {\n",
    "    'input': {\n",
    "        'seq1': 'sanitary',\n",
    "        'seq2': 'semantics'\n",
    "    },\n",
    "    'output': 4\n",
    "}\n",
    "\n",
    "\n",
    "#test of numbers\n",
    "test1 = {\n",
    "    'input':{\n",
    "        'seq1': [1,2,3,6,8,9,2,0],\n",
    "        'seq2': [2,4,6,7,8,0]\n",
    "    },\n",
    "    'output': 4\n",
    "}\n",
    "\n",
    "#test of alphabets and numbers\n",
    "test2={\n",
    "    'input':{\n",
    "        'seq1': [2,4,6,'d', 'g', 0],\n",
    "        'seq2': [4,2,6,'g',5]\n",
    "    },\n",
    "    'output': 3\n",
    "}\n",
    "\n",
    "#test without subsequence\n",
    "test3={\n",
    "    'input':{\n",
    "        'seq1': [2,4,6, 0],\n",
    "        'seq2': [25,63,'g',5]\n",
    "    },\n",
    "    'output': 0\n",
    "}\n",
    "#test with same subsequence\n",
    "test4={\n",
    "    'input':{\n",
    "        'seq1': [2,4,6, 0],\n",
    "        'seq2': [2,4,6, 0]\n",
    "    },\n",
    "    'output': 4\n",
    "}\n",
    "#test thats empty\n",
    "test5={\n",
    "    'input':{\n",
    "        'seq1': [],\n",
    "        'seq2': []\n",
    "    },\n",
    "    'output': 0\n",
    "}\n",
    "\n",
    "#test that one is empty\n",
    "test6={\n",
    "    'input':{\n",
    "        'seq1': [],\n",
    "        'seq2': [2,4,5,'e']\n",
    "    },\n",
    "    'output': 0\n",
    "}\n",
    "\n"
   ]
  },
  {
   "cell_type": "code",
   "execution_count": 152,
   "metadata": {},
   "outputs": [],
   "source": [
    "tests = [test0, test1,test2,test3,test4,test5,test6]"
   ]
  },
  {
   "cell_type": "code",
   "execution_count": 153,
   "metadata": {},
   "outputs": [],
   "source": [
    "def len_of_subsequence(sub1, sub2, point1=0, point2=0):\n",
    "    if point1 == len(sub1) or point2 == len(sub2):\n",
    "        return 0\n",
    "    elif point1 >= len(sub1) or point2 >= len(sub2):\n",
    "        return -1\n",
    "    elif len(sub1) < 2 or len(sub2) < 2:\n",
    "        return 1\n",
    "    elif sub1[point1] == sub2[point2]:\n",
    "        return 1 + len_of_subsequence(sub1, sub2, point1+1, point2+1)\n",
    "    else:\n",
    "        option1 = len_of_subsequence(sub1, sub2, point1 +1, point2)\n",
    "        option2 = len_of_subsequence(sub1, sub2, point1, point2 +1)\n",
    "        return max(option1, option2)"
   ]
  },
  {
   "cell_type": "code",
   "execution_count": 154,
   "metadata": {},
   "outputs": [
    {
     "data": {
      "text/plain": [
       "{'input': {'seq1': 'sanitary', 'seq2': 'semantics'}, 'output': 4}"
      ]
     },
     "execution_count": 154,
     "metadata": {},
     "output_type": "execute_result"
    }
   ],
   "source": [
    "test0"
   ]
  },
  {
   "cell_type": "code",
   "execution_count": null,
   "metadata": {},
   "outputs": [],
   "source": []
  },
  {
   "cell_type": "code",
   "execution_count": 155,
   "metadata": {},
   "outputs": [
    {
     "name": "stdout",
     "output_type": "stream",
     "text": [
      "seq1: sanitary\n",
      "seq2: semantics\n",
      "4\n",
      "True\n",
      "seq1: [1, 2, 3, 6, 8, 9, 2, 0]\n",
      "seq2: [2, 4, 6, 7, 8, 0]\n",
      "4\n",
      "True\n",
      "seq1: [2, 4, 6, 'd', 'g', 0]\n",
      "seq2: [4, 2, 6, 'g', 5]\n",
      "3\n",
      "True\n",
      "seq1: [2, 4, 6, 0]\n",
      "seq2: [25, 63, 'g', 5]\n",
      "0\n",
      "True\n",
      "seq1: [2, 4, 6, 0]\n",
      "seq2: [2, 4, 6, 0]\n",
      "4\n",
      "True\n",
      "seq1: []\n",
      "seq2: []\n",
      "0\n",
      "True\n",
      "seq1: []\n",
      "seq2: [2, 4, 5, 'e']\n",
      "0\n",
      "True\n",
      "CPU times: total: 15.6 ms\n",
      "Wall time: 5.99 ms\n"
     ]
    }
   ],
   "source": [
    "%%time\n",
    "for test in tests:\n",
    "    seq1, seq2, output = test['input']['seq1'], test['input']['seq2'], test['output']\n",
    "    print('seq1:', seq1)\n",
    "    print('seq2:', seq2)\n",
    "\n",
    "    result = len_of_subsequence(test['input']['seq1'], test['input']['seq2'])\n",
    "    print(result)\n",
    "\n",
    "    if result == output:\n",
    "        print('True')\n",
    "    else:\n",
    "        print('False')\n"
   ]
  },
  {
   "attachments": {},
   "cell_type": "markdown",
   "metadata": {},
   "source": [
    "memoisation algorithm"
   ]
  },
  {
   "cell_type": "code",
   "execution_count": 156,
   "metadata": {},
   "outputs": [],
   "source": [
    "def len_of_subsequence_memo(seq1,seq2):\n",
    "    memo ={}\n",
    "    def recurse(point1=0, point2=0):\n",
    "        key =(point1, point2)\n",
    "        if key in memo:\n",
    "            return memo[key]\n",
    "        elif point1 == len(seq1) or point2== len(seq2):\n",
    "            memo[key] = 0\n",
    "        elif seq1[point1] == seq2[point2]:\n",
    "            memo[key] = 1 + recurse(point1+1, point2+1)\n",
    "        else:\n",
    "            memo[key] = max(recurse(point1+1, point2), recurse(point1, point2+1))\n",
    "        return memo[key]\n",
    "    return recurse(0,0 )"
   ]
  },
  {
   "cell_type": "code",
   "execution_count": 157,
   "metadata": {},
   "outputs": [
    {
     "name": "stdout",
     "output_type": "stream",
     "text": [
      "seq1: sanitary\n",
      "seq2: semantics\n",
      "4\n",
      "True\n",
      "seq1: [1, 2, 3, 6, 8, 9, 2, 0]\n",
      "seq2: [2, 4, 6, 7, 8, 0]\n",
      "4\n",
      "True\n",
      "seq1: [2, 4, 6, 'd', 'g', 0]\n",
      "seq2: [4, 2, 6, 'g', 5]\n",
      "3\n",
      "True\n",
      "seq1: [2, 4, 6, 0]\n",
      "seq2: [25, 63, 'g', 5]\n",
      "0\n",
      "True\n",
      "seq1: [2, 4, 6, 0]\n",
      "seq2: [2, 4, 6, 0]\n",
      "4\n",
      "True\n",
      "seq1: []\n",
      "seq2: []\n",
      "0\n",
      "True\n",
      "seq1: []\n",
      "seq2: [2, 4, 5, 'e']\n",
      "0\n",
      "True\n",
      "CPU times: total: 0 ns\n",
      "Wall time: 1 ms\n"
     ]
    }
   ],
   "source": [
    "%%time\n",
    "for test in tests:\n",
    "    seq1, seq2, output = test['input']['seq1'], test['input']['seq2'], test['output']\n",
    "    print('seq1:', seq1)\n",
    "    print('seq2:', seq2)\n",
    "\n",
    "    result = len_of_subsequence_memo(seq1,seq2)\n",
    "    print(result)\n",
    "\n",
    "    if result == output:\n",
    "        print('True')\n",
    "    else:\n",
    "        print('False')"
   ]
  },
  {
   "cell_type": "code",
   "execution_count": 158,
   "metadata": {},
   "outputs": [],
   "source": [
    "from jovian.pythondsa import evaluate_test_cases"
   ]
  },
  {
   "cell_type": "code",
   "execution_count": null,
   "metadata": {},
   "outputs": [],
   "source": [
    "evaluate_test_cases(len_of_subsequence_memo, tests)"
   ]
  }
 ],
 "metadata": {
  "kernelspec": {
   "display_name": "Python 3",
   "language": "python",
   "name": "python3"
  },
  "language_info": {
   "codemirror_mode": {
    "name": "ipython",
    "version": 3
   },
   "file_extension": ".py",
   "mimetype": "text/x-python",
   "name": "python",
   "nbconvert_exporter": "python",
   "pygments_lexer": "ipython3",
   "version": "3.10.5"
  },
  "orig_nbformat": 4
 },
 "nbformat": 4,
 "nbformat_minor": 2
}
